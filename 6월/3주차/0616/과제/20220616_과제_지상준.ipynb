{
 "cells": [
  {
   "cell_type": "code",
   "execution_count": 1,
   "id": "52007a88",
   "metadata": {},
   "outputs": [],
   "source": [
    "import torch\n",
    "import torch.nn as nn\n",
    "import torch.optim as optim\n",
    "from torch.utils.data import Dataset\n",
    "from torch.utils.data import DataLoader\n",
    "import torchvision.transforms as transforms\n",
    "import torchvision.models as models\n",
    "from torchvision import utils\n",
    "\n",
    "import os\n",
    "import glob\n",
    "import time\n",
    "import copy\n",
    "import numpy as np\n",
    "import pandas as pd\n",
    "import matplotlib.pyplot as plt\n",
    "from PIL import Image"
   ]
  },
  {
   "cell_type": "code",
   "execution_count": 2,
   "id": "9b6a7ec8",
   "metadata": {},
   "outputs": [],
   "source": [
    "# 모델 가중치 저장할 폴더 생성\n",
    "os.makedirs('.\\\\weights', exist_ok=True)\n",
    "\n",
    "# 하이퍼파라메타 값 세팅\n",
    "batch_size = 36\n",
    "num_epochs = 10\n",
    "val_every = 1 # 평가 간격\n",
    "save_weights_dir = '.\\\\weights'\n",
    "data_path = '.\\\\dataset'\n",
    "nc = 5 # num_classes\n",
    "lr = 0.025 # learning rate"
   ]
  },
  {
   "cell_type": "code",
   "execution_count": 3,
   "id": "0810dc81",
   "metadata": {},
   "outputs": [],
   "source": [
    "# https://tutorials.pytorch.kr/beginner/finetuning_torchvision_models_tutorial.html\n",
    "\n",
    "def initialize_model(model_name, num_classes, use_pretrained=True):\n",
    "    \n",
    "    # Initialize these variables which will be set in this if statement. Each of these\n",
    "    #   variables is model specific.\n",
    "    model_ft = None\n",
    "    input_size = 0\n",
    "\n",
    "    if model_name == \"resnet\":\n",
    "        # Resnet18\n",
    "        model_ft = models.resnet18(pretrained=use_pretrained)\n",
    "        num_ftrs = model_ft.fc.in_features\n",
    "        model_ft.fc = nn.Linear(num_ftrs, num_classes)\n",
    "        input_size = 224\n",
    "\n",
    "    elif model_name == \"alexnet\":\n",
    "        # Alexnet\n",
    "        model_ft = models.alexnet(pretrained=use_pretrained)\n",
    "        num_ftrs = model_ft.classifier[6].in_features\n",
    "        model_ft.classifier[6] = nn.Linear(num_ftrs,num_classes)\n",
    "        input_size = 224\n",
    "\n",
    "    elif model_name == \"vgg\":\n",
    "        # VGG11_bn\n",
    "        model_ft = models.vgg11_bn(pretrained=use_pretrained)\n",
    "        num_ftrs = model_ft.classifier[6].in_features\n",
    "        model_ft.classifier[6] = nn.Linear(num_ftrs,num_classes)\n",
    "        input_size = 224\n",
    "\n",
    "    elif model_name == \"squeezenet\":\n",
    "        # Squeezenet\n",
    "        model_ft = models.squeezenet1_0(pretrained=use_pretrained)\n",
    "        model_ft.classifier[1] = nn.Conv2d(512, num_classes, kernel_size=(1,1), stride=(1,1))\n",
    "        model_ft.num_classes = num_classes\n",
    "        input_size = 224\n",
    "\n",
    "    elif model_name == \"densenet\":\n",
    "        # Densenet\n",
    "        model_ft = models.densenet121(pretrained=use_pretrained)\n",
    "        num_ftrs = model_ft.classifier.in_features\n",
    "        model_ft.classifier = nn.Linear(num_ftrs, num_classes)\n",
    "        input_size = 224\n",
    "\n",
    "    else:\n",
    "        print(\"Invalid model name, exiting...\")\n",
    "        exit()\n",
    "\n",
    "    return model_ft, input_size"
   ]
  },
  {
   "cell_type": "code",
   "execution_count": 4,
   "id": "a46b3f2a",
   "metadata": {},
   "outputs": [],
   "source": [
    "class CustomDataset(Dataset):\n",
    "    def __init__(self, data_path, mode, transform=None):\n",
    "        # init : 초기값 설정\n",
    "        # 데이터 가져오기 전체 데이터 경로 불러오기\n",
    "        self.all_data = sorted(glob.glob(os.path.join(data_path, mode, '*', '*.jpg')))\n",
    "        # data_path > .\\\\dataset\\\\train * -> DownDog *.jpg -> 000000.jpg\n",
    "        self.transform = transform\n",
    "\n",
    "        paths = sorted(glob.glob(os.path.join(data_path, mode, '*')))\n",
    "        self.labels = [path.split('\\\\')[-1] for path in paths]\n",
    "        self.train_dict = {label: sorted(glob.glob(os.path.join(data_path, 'train', label, '*.jpg')))\n",
    "                           for label in self.labels}\n",
    "        self.valid_dict = {label: sorted(glob.glob(os.path.join(data_path, 'val', label, '*.jpg')))\n",
    "                           for label in self.labels}\n",
    "\n",
    "    def __getitem__(self, index):\n",
    "        data_path = self.all_data[index]\n",
    "        # print('data_path info >> ', data_path)\n",
    "        data_path_split = data_path.split('\\\\')\n",
    "        # data_path_split info >>  ['.\\\\dataset\\\\train\\\\Downdog\\\\00000000.jpg']\n",
    "        # data_path_split info >>  ['.', 'dataset', 'train', 'Downdog', '00000000.jpg']\n",
    "        labels_temp = data_path_split[3]\n",
    "        # labels_temp info >> Downdog\n",
    "\n",
    "        # label = 0\n",
    "        # if 'Downdog' == labels_temp:\n",
    "        #     label = 0\n",
    "        # elif 'Goddess' == labels_temp:\n",
    "        #     label = 1\n",
    "        # elif 'Plank' == labels_temp:\n",
    "        #     label = 2\n",
    "        # elif 'Tree' == labels_temp:\n",
    "        #     label = 3\n",
    "        # elif 'Warrior2' == labels_temp:\n",
    "        #     label = 4\n",
    "\n",
    "        images = Image.open(data_path).convert('RGB')\n",
    "\n",
    "        if self.transform is not None:\n",
    "            images = self.transform(images)\n",
    "\n",
    "        return images, self.labels.index(labels_temp)\n",
    "\n",
    "    def __len__(self):\n",
    "        return len(self.all_data)"
   ]
  },
  {
   "cell_type": "code",
   "execution_count": 5,
   "id": "1cf8b399",
   "metadata": {},
   "outputs": [],
   "source": [
    "def data_augmentation():\n",
    "    data_transform = {\n",
    "        'train': transforms.Compose([\n",
    "            transforms.Resize((224, 224)),\n",
    "            transforms.RandomHorizontalFlip(p=0.4),\n",
    "            transforms.RandomVerticalFlip(p=0.2),\n",
    "            transforms.ToTensor(),\n",
    "            transforms.Normalize([0.5, 0.5, 0.5], [0.2, 0.2, 0.2])\n",
    "        ]),\n",
    "        'test': transforms.Compose([\n",
    "            transforms.Resize((224, 224)),\n",
    "            transforms.ToTensor(),\n",
    "            transforms.Normalize([0.5, 0.5, 0.5], [0.2, 0.2, 0.2])\n",
    "        ])\n",
    "    }\n",
    "    return data_transform"
   ]
  },
  {
   "cell_type": "code",
   "execution_count": 6,
   "id": "94a74d0e",
   "metadata": {},
   "outputs": [],
   "source": [
    "def train_model(model, dataloaders, criterion, optimizer, scheduler, num_epochs=25):\n",
    "    since = time.time()\n",
    "\n",
    "    history = []\n",
    "    train_loss = 0\n",
    "    valid_loss = 0\n",
    "    train_acc = 0\n",
    "    valid_acc = 0\n",
    "\n",
    "    best_model_wts = copy.deepcopy(model.state_dict())\n",
    "    best_acc = 0.0\n",
    "\n",
    "    for epoch in range(num_epochs):\n",
    "        print('Epoch {}/{}'.format(epoch, num_epochs - 1))\n",
    "        print('-' * 10)\n",
    "\n",
    "        # Each epoch has a training and validation phase\n",
    "        for phase in ['train', 'val']:\n",
    "            if phase == 'train':\n",
    "                model.train()  # Set model to training mode\n",
    "            else:\n",
    "                model.eval()  # Set model to evaluate mode\n",
    "\n",
    "            running_loss = 0.0\n",
    "            running_corrects = 0\n",
    "\n",
    "            # Iterate over data.\n",
    "            for inputs, labels in dataloaders[phase]:\n",
    "                inputs = inputs.to(device)\n",
    "                labels = labels.to(device)\n",
    "\n",
    "                # zero the parameter gradients\n",
    "                optimizer.zero_grad()\n",
    "\n",
    "                # forward\n",
    "                # track history if only in train\n",
    "                with torch.set_grad_enabled(phase == 'train'):\n",
    "                    # Get model outputs and calculate loss\n",
    "                    # Special case for inception because in training it has an auxiliary output. In train\n",
    "                    #   mode we calculate the loss by summing the final output and the auxiliary output\n",
    "                    #   but in testing we only consider the final output.\n",
    "                    outputs = model(inputs)\n",
    "                    loss = criterion(outputs, labels)\n",
    "\n",
    "                    _, preds = torch.max(outputs, 1)\n",
    "\n",
    "                    # backward + optimize only if in training phase\n",
    "                    if phase == 'train':\n",
    "                        loss.backward()\n",
    "                        optimizer.step()\n",
    "\n",
    "                # statistics\n",
    "                running_loss += loss.item() * inputs.size(0)\n",
    "                running_corrects += torch.sum(preds == labels.data)\n",
    "\n",
    "            epoch_loss = running_loss / len(dataloaders[phase].dataset)\n",
    "            epoch_acc = running_corrects.double() / len(dataloaders[phase].dataset)\n",
    "\n",
    "            print('{} Loss: {:.4f} Acc: {:.4f}'.format(phase, epoch_loss, epoch_acc))\n",
    "\n",
    "            # deep copy the model\n",
    "            if phase == 'val' and epoch_acc > best_acc:\n",
    "                best_acc = epoch_acc\n",
    "                best_model_wts = copy.deepcopy(model.state_dict())\n",
    "\n",
    "            if phase == 'train':\n",
    "                train_loss = epoch_loss\n",
    "                train_acc = epoch_acc\n",
    "            else:\n",
    "                valid_loss = epoch_loss\n",
    "                valid_acc = epoch_acc\n",
    "\n",
    "        history.append([train_loss, valid_loss, train_acc, valid_acc])\n",
    "        scheduler.step()\n",
    "\n",
    "    time_elapsed = time.time() - since\n",
    "    print('Training complete in {:.0f}m {:.0f}s'.format(time_elapsed // 60, time_elapsed % 60))\n",
    "    print('Best val Acc: {:4f}'.format(best_acc))\n",
    "\n",
    "    # load best model weights\n",
    "    model.load_state_dict(best_model_wts)\n",
    "    return model, pd.DataFrame(history, columns=['train_loss', 'valid_loss', 'train_acc', 'valid_acc'])"
   ]
  },
  {
   "cell_type": "code",
   "execution_count": 7,
   "id": "7eb26d33",
   "metadata": {},
   "outputs": [],
   "source": [
    "def loss_acc_visualize(history, optim):\n",
    "    plt.figure(figsize=(20, 10))\n",
    "\n",
    "    plt.suptitle(str(optim))\n",
    "\n",
    "    plt.subplot(121)\n",
    "    plt.plot(history['train_loss'], label='train_loss')\n",
    "    plt.plot(history['valid_loss'], label='valid_loss')\n",
    "    plt.legend()\n",
    "    plt.title('Loss Curves')\n",
    "\n",
    "    plt.subplot(122)\n",
    "    plt.plot(history['train_acc'], label='train_acc')\n",
    "    plt.plot(history['valid_acc'], label='valid_acc')\n",
    "    plt.legend()\n",
    "    plt.title('Accuracy Curves')\n",
    "\n",
    "    plt.show()\n",
    "    # plt.savefig(str(path) + 'loss_acc.png')"
   ]
  },
  {
   "cell_type": "code",
   "execution_count": 8,
   "id": "0fc3aaa9",
   "metadata": {},
   "outputs": [],
   "source": [
    "def visual_predict(model, data):\n",
    "    c = np.random.randint(0, len(data))\n",
    "    img, label = data[c]\n",
    "\n",
    "    with torch.no_grad():\n",
    "        model.eval()\n",
    "        # Model outputs log probabilities\n",
    "        # out = model(img.view(1, 3, 224, 224).cuda())\n",
    "        out = model(img.view(1, 3, 224, 224).cpu())\n",
    "        out = torch.exp(out)\n",
    "        print(out)\n",
    "\n",
    "    plt.figure(figsize=(10, 5))\n",
    "    plt.subplot(121)\n",
    "    plt.imshow(img.numpy().transpose((1, 2, 0)))\n",
    "    plt.title(data.labels[label])\n",
    "    plt.subplot(122)\n",
    "    plt.barh(data.labels, out.cpu().numpy()[0])\n",
    "    plt.show()"
   ]
  },
  {
   "cell_type": "code",
   "execution_count": 9,
   "id": "31b0e111",
   "metadata": {},
   "outputs": [],
   "source": [
    "def class_accuracies(model, data):\n",
    "    accuracy_dict = {}\n",
    "    with torch.no_grad():\n",
    "        model.eval()\n",
    "        for c in data.valid_dict.keys():\n",
    "            correct_count = 0\n",
    "            total_count = len(data.valid_dict[str(c)])\n",
    "            gt = data.labels.index(str(c))\n",
    "            for path in data.valid_dict[str(c)]:\n",
    "                # print(path)\n",
    "                im = Image.open(path).convert('RGB')\n",
    "                # im.show()\n",
    "                im = transforms.ToTensor()(im)\n",
    "                im = transforms.Resize((224, 224))(im)\n",
    "                # out = model(im.view(1, 3, 224, 224).cuda())\n",
    "                out = model(im.view(1, 3, 224, 224).cpu())\n",
    "                # print(out)\n",
    "                out = torch.exp(out)\n",
    "                pred = list(out.cpu().numpy()[0])\n",
    "                # print(pred)\n",
    "                pred = pred.index(max(pred))\n",
    "                # print(pred,gt)\n",
    "\n",
    "                if gt == pred:\n",
    "                    correct_count += 1\n",
    "            print(f\"Accuracy for class {str(c)} : \",\n",
    "                  correct_count / total_count)\n",
    "            accuracy_dict[str(c)] = correct_count / total_count\n",
    "\n",
    "    plt.figure(figsize=(10, 5))\n",
    "    plt.title('class_accuracies')\n",
    "    plt.barh(list(accuracy_dict.keys()), list(accuracy_dict.values()))\n",
    "    plt.show()\n",
    "\n",
    "    return accuracy_dict"
   ]
  },
  {
   "cell_type": "code",
   "execution_count": 10,
   "id": "d4ead511",
   "metadata": {},
   "outputs": [],
   "source": [
    "# 1. device 설정\n",
    "# device = 'cuda' if torch.cuda.is_available() else 'mps'\n",
    "# device = torch.device('mps')\n",
    "device = 'cuda' if torch.cuda.is_available() else 'cpu'"
   ]
  },
  {
   "cell_type": "code",
   "execution_count": 11,
   "id": "288a2e8f",
   "metadata": {},
   "outputs": [],
   "source": [
    "# 2. augmentation setting\n",
    "data_transform = data_augmentation()"
   ]
  },
  {
   "cell_type": "code",
   "execution_count": 12,
   "id": "27b68258",
   "metadata": {},
   "outputs": [],
   "source": [
    "# 3. data set setting\n",
    "train_data = CustomDataset(data_path=data_path, mode='train', transform=data_transform['train'])\n",
    "test_data = CustomDataset(data_path=data_path, mode='val', transform=data_transform['test'])"
   ]
  },
  {
   "cell_type": "code",
   "execution_count": 13,
   "id": "11b83572",
   "metadata": {},
   "outputs": [],
   "source": [
    "# 4. data loader setting\n",
    "train_loader = DataLoader(train_data, batch_size=batch_size, shuffle=True, drop_last=True)\n",
    "test_loader = DataLoader(test_data, batch_size=batch_size, shuffle=False, drop_last=True)"
   ]
  },
  {
   "cell_type": "code",
   "execution_count": 14,
   "id": "c06f0976",
   "metadata": {},
   "outputs": [],
   "source": [
    "# 5. model call\n",
    "net, image_size = initialize_model('resnet', num_classes=nc)"
   ]
  },
  {
   "cell_type": "code",
   "execution_count": 15,
   "id": "371d9b41",
   "metadata": {},
   "outputs": [],
   "source": [
    "# 6. 하이퍼파라메타 값 call loss function 호출, optim, lr_scheduler\n",
    "criterion = nn.CrossEntropyLoss().to(device)\n",
    "optimizer = optim.SGD(net.parameters(), lr=lr, momentum=0.9)\n",
    "lr_scheduler = torch.optim.lr_scheduler.StepLR(optimizer, step_size=4, gamma=0.1)"
   ]
  },
  {
   "cell_type": "code",
   "execution_count": 16,
   "id": "1f7e9326",
   "metadata": {},
   "outputs": [
    {
     "name": "stdout",
     "output_type": "stream",
     "text": [
      "Epoch 0/9\n",
      "----------\n",
      "train Loss: 0.8213 Acc: 0.6941\n",
      "val Loss: 2.8365 Acc: 0.1863\n",
      "Epoch 1/9\n",
      "----------\n",
      "train Loss: 0.6916 Acc: 0.8014\n",
      "val Loss: 2.3139 Acc: 0.2745\n",
      "Epoch 2/9\n",
      "----------\n",
      "train Loss: 0.4697 Acc: 0.8307\n",
      "val Loss: 0.2892 Acc: 0.5882\n",
      "Epoch 3/9\n",
      "----------\n",
      "train Loss: 0.3752 Acc: 0.8589\n",
      "val Loss: 0.0162 Acc: 0.6961\n",
      "Epoch 4/9\n",
      "----------\n",
      "train Loss: 0.1202 Acc: 0.9334\n",
      "val Loss: 0.0059 Acc: 0.7059\n",
      "Epoch 5/9\n",
      "----------\n",
      "train Loss: 0.0819 Acc: 0.9515\n",
      "val Loss: 0.0041 Acc: 0.7059\n",
      "Epoch 6/9\n",
      "----------\n",
      "train Loss: 0.0682 Acc: 0.9549\n",
      "val Loss: 0.0020 Acc: 0.7059\n",
      "Epoch 7/9\n",
      "----------\n",
      "train Loss: 0.0661 Acc: 0.9571\n",
      "val Loss: 0.0010 Acc: 0.7059\n",
      "Epoch 8/9\n",
      "----------\n",
      "train Loss: 0.0507 Acc: 0.9594\n",
      "val Loss: 0.0012 Acc: 0.7059\n",
      "Epoch 9/9\n",
      "----------\n",
      "train Loss: 0.0670 Acc: 0.9560\n",
      "val Loss: 0.0011 Acc: 0.7059\n",
      "Training complete in 12m 10s\n",
      "Best val Acc: 0.705882\n"
     ]
    }
   ],
   "source": [
    "# 7. train loop 함수 호출\n",
    "# 8. test loop 함수 호출\n",
    "# 과제 train loop 구성 하시면 됩니다.\n",
    "model_ft, hist = train_model(\n",
    "    net, {'train': train_loader, 'val': test_loader}, criterion, optimizer, lr_scheduler, num_epochs=num_epochs\n",
    ")"
   ]
  },
  {
   "cell_type": "code",
   "execution_count": 17,
   "id": "ec2df5e1",
   "metadata": {},
   "outputs": [
    {
     "data": {
      "image/png": "[encoded data removed]",
      "text/plain": [
       "<Figure size 1440x720 with 2 Axes>"
      ]
     },
     "metadata": {
      "needs_background": "light"
     },
     "output_type": "display_data"
    }
   ],
   "source": [
    "loss_acc_visualize(history=hist, optim=f'SGD ; lr={lr}, step_size=4, gamma=0.1')"
   ]
  },
  {
   "cell_type": "code",
   "execution_count": 18,
   "id": "46ccb062",
   "metadata": {},
   "outputs": [
    {
     "name": "stderr",
     "output_type": "stream",
     "text": [
      "Clipping input data to the valid range for imshow with RGB data ([0..1] for floats or [0..255] for integers).\n"
     ]
    },
    {
     "name": "stdout",
     "output_type": "stream",
     "text": [
      "tensor([[3.0078e-02, 2.2215e-02, 1.0429e+07, 1.5311e-02, 3.2955e-03]])\n"
     ]
    },
    {
     "data": {
      "image/png": "[encoded data removed]",
      "text/plain": [
       "<Figure size 720x360 with 2 Axes>"
      ]
     },
     "metadata": {
      "needs_background": "light"
     },
     "output_type": "display_data"
    }
   ],
   "source": [
    "visual_predict(model=model_ft, data=test_data)"
   ]
  },
  {
   "cell_type": "code",
   "execution_count": 19,
   "id": "0d0766a8",
   "metadata": {},
   "outputs": [
    {
     "name": "stdout",
     "output_type": "stream",
     "text": [
      "Accuracy for class Downdog :  0.95\n",
      "Accuracy for class Goddess :  0.8095238095238095\n",
      "Accuracy for class Plank :  0.9\n",
      "Accuracy for class Tree :  0.7619047619047619\n",
      "Accuracy for class Warrior2 :  0.3\n"
     ]
    },
    {
     "data": {
      "image/png": "[encoded data removed]",
      "text/plain": [
       "<Figure size 720x360 with 1 Axes>"
      ]
     },
     "metadata": {
      "needs_background": "light"
     },
     "output_type": "display_data"
    }
   ],
   "source": [
    "sgd_lr025_dict = class_accuracies(model=model_ft, data=test_data)"
   ]
  }
 ],
 "metadata": {
  "kernelspec": {
   "display_name": "env_ai",
   "language": "python",
   "name": "env_ai"
  },
  "language_info": {
   "codemirror_mode": {
    "name": "ipython",
    "version": 3
   },
   "file_extension": ".py",
   "mimetype": "text/x-python",
   "name": "python",
   "nbconvert_exporter": "python",
   "pygments_lexer": "ipython3",
   "version": "3.7.13"
  }
 },
 "nbformat": 4,
 "nbformat_minor": 5
}
