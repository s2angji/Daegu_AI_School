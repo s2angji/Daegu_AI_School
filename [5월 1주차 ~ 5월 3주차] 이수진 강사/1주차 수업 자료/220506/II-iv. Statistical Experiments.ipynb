{
 "cells": [
  {
   "attachments": {
    "image.png": {
     "image/png": "[encoded data removed]"
    }
   },
   "cell_type": "markdown",
   "id": "f8c7b2ac",
   "metadata": {},
   "source": [
    "## 실험 설계(Design of experiment)\n",
    "* experiment: 어떤 가설(hypothesis)을 확인(confirm)/기각(reject)하여 결론을 내기위해 설계   \n",
    "예시) 어떠한 결정을 내릴 시 유의미한 차이가 발생하는지 등   \n",
    "신약이 기존의 약보다 효력이 좋은지 / 판매가를 변경하면 수익이 오를지\n",
    "\n",
    "![image.png](attachment:image.png)\n",
    "<center>classical statistical inference pipeline</center>  \n",
    "* inference: 제한된 데이터셋에서 수행한 실험 결과를 더 큰 process나 모집단(population)에 적용하는 것"
   ]
  },
  {
   "cell_type": "markdown",
   "id": "20cb1d1d",
   "metadata": {},
   "source": [
    "## A/B Testing\n",
    "* 방안, 절차 등 두가지 처리 방법(treatment)에 대해 어느 것이 나은지 확인하기 위해, 두 그룹으로 구성한 실험   \n",
    "* 일반적으로 기존 방식과 새로운 방식에 대해 비교하며, 기존 방식을 따르는 그룹을 대조군(control)으로 둠   \n",
    "control group: 기존 방식대로 처리한 subject들의 그룹   \n",
    "treatment group: 새로운/특정한 방식으로 처리한 subject들의 그룹\n",
    "* treatment만 두 그룹간의 차이 발생의 원인이 되도록 제어하기, 위해 subject들은 랜덤하게 선정\n",
    "* test statistic: 두개 그룹을 비교하기 위해 사용할 지표(평균 등)   \n",
    "연구자 편향(bias)을 막기 위해, 실험을 실행하기 전 결정\n",
    "\n",
    "\n",
    "적용 사례 예시) web context\n",
    "- treatment: web page, price of a product, wording of a headline, ...\n",
    "- subject: web visitor\n",
    "- outcome: clicks, purchases, visit duration, number of pages visited, whether a particular page is visited\n",
    "\n",
    "\n",
    "* 두가지 이상의 treatment를 비교하는 experimental design: multi-arm bandit"
   ]
  },
  {
   "cell_type": "markdown",
   "id": "ba258cfd",
   "metadata": {},
   "source": [
    "## Hypothesis Tests (Significance test)\n",
    "* 가설 검정 (유의성 검정)\n",
    "* 어떤 현상이 우연히 일어난 것인지 / 분명한 차이가 있는 것인지 확인   \n",
    "\n",
    "\n",
    "* Null hypothesis: 귀무가설. 두 그룹은 본질적으로 같고, 값 차이는 우연히 일어났다고 가정\n",
    "* Alternative hypothesis: 대립가설. 귀무가설과 반대되는 가정. 일반적으로 실험을 통해 입증하고 싶은 내용으로 설정  \n",
    "Null = “no difference between the means of group A and group B”;   \n",
    "alternative =“A is different from B” (could be bigger or smaller) //   \n",
    "Null = “A ≤ B”; alternative = “A > B”\n",
    "* 가설 검정을 통해, 귀무가설이 거짓 여부를 입증함으로써 대립가설의 참/거짓을 확인할 수 있음\n",
    "\n",
    "\n",
    "* One-way(one-tail) test: 추정 값이 기준 값에서 왼쪽/오른쪽 중 한 방향으로만 벗어날 때 사용   \n",
    "Null = “A = B”; alternative =“A > B” (“A < B”)   \n",
    "* Two-way(two-tail) test: 추정 값이 기준 값보다 크거나 작은 경우에 사용   \n",
    "Null = “A = B”; alternative =“A ≠ B”"
   ]
  },
  {
   "cell_type": "markdown",
   "id": "5f0d562d",
   "metadata": {},
   "source": [
    "## Resampling\n",
    "* 통계량의 random variability를 평가하기 위해, observed data에서 값을 여러번 반복 추출하는 것\n",
    "\n",
    "\n",
    "* bootstrap: sample에서 계산한 추정치(estimate)의 신뢰성(reliability)을 평가하기 위해 사용\n",
    "* permutation: 두 개 이상 그룹을 포함하는 가설 검정에 사용\n",
    "\n",
    "### Permutation Test\n",
    "1. 서로 다른 그룹(A, B, C, D, ...)의 데이터를 연결하여 single data set 구축\n",
    "2. 새로 구축한 데이터셋을 섞고(shuffle), 이를 비복원추출하여 기존 A 그룹과 같은 사이즈인 새로운 데이터 그룹 형성\n",
    "3. 마찬가지로 남은 데이터셋을 비복원 추출하여 기존 그룹 B, C, D, ...와 같은 크기의 새로운 데이터 그룹 형성\n",
    "4. 기존 그룹들에서 계산했던 statistic/estimate(그룹 간 비율 차이 등)을 새로 형성한 그룹들에 대해서도 계산; 순열 반복 1회\n",
    "5. 1~4 단계를 R회 반복하여, test statistic의 permutation distribution 생성\n",
    "6. 최초 관찰했던 그룹간 차이(difference)와 permuted 그룹간 차이를 비교했을 때, 최초 관찰한 차이가 permutation distribution에서 드물게 나타나는 경우 해당 차이는 통계적으로 유의미하다고 판단함(statistically significant). 즉 그룹간에 분명한 차이가 존재함"
   ]
  },
  {
   "cell_type": "markdown",
   "id": "e13f6d52",
   "metadata": {},
   "source": [
    "### Permutation Test - example\n",
    "문제 상황: 고품질의 서비스를 판매하는 회사에서 두가지 웹페이지(A, B) 중 어떤 웹페이지가 더 홍보를 잘하는 지 알고 싶으나, 서비스의 가격이 높아 충분한 판매 데이터가 없음   \n",
    "\n",
    "변수 설정: proxy variable 사용. 웹페이지를 오래 보는 사람은 서비스를 구매할 확률이 높다고 판단하여, 웹페이지 잔류 시간(session time)을 변수로 사용하기로 결정   \n",
    "\n",
    "실험 설계: 웹페이지 A, B의 average session time을 비교하여 통계적으로 유의미한 차이가 있는지 검정\n",
    "* 대리변수(proxy variable): 획득이나 사용이 어려운 어떤 변수를 대신하여 사용하는 변수"
   ]
  },
  {
   "cell_type": "code",
   "execution_count": 33,
   "id": "a185ac4a",
   "metadata": {},
   "outputs": [],
   "source": [
    "import pandas as pd\n",
    "import matplotlib.pyplot as plt"
   ]
  },
  {
   "cell_type": "code",
   "execution_count": 34,
   "id": "653a9fa0",
   "metadata": {},
   "outputs": [
    {
     "data": {
      "text/html": [
       "<div>\n",
       "<style scoped>\n",
       "    .dataframe tbody tr th:only-of-type {\n",
       "        vertical-align: middle;\n",
       "    }\n",
       "\n",
       "    .dataframe tbody tr th {\n",
       "        vertical-align: top;\n",
       "    }\n",
       "\n",
       "    .dataframe thead th {\n",
       "        text-align: right;\n",
       "    }\n",
       "</style>\n",
       "<table border=\"1\" class=\"dataframe\">\n",
       "  <thead>\n",
       "    <tr style=\"text-align: right;\">\n",
       "      <th></th>\n",
       "      <th>Page</th>\n",
       "      <th>Time</th>\n",
       "    </tr>\n",
       "  </thead>\n",
       "  <tbody>\n",
       "    <tr>\n",
       "      <th>0</th>\n",
       "      <td>Page A</td>\n",
       "      <td>0.21</td>\n",
       "    </tr>\n",
       "    <tr>\n",
       "      <th>1</th>\n",
       "      <td>Page B</td>\n",
       "      <td>2.53</td>\n",
       "    </tr>\n",
       "    <tr>\n",
       "      <th>2</th>\n",
       "      <td>Page A</td>\n",
       "      <td>0.35</td>\n",
       "    </tr>\n",
       "    <tr>\n",
       "      <th>3</th>\n",
       "      <td>Page B</td>\n",
       "      <td>0.71</td>\n",
       "    </tr>\n",
       "    <tr>\n",
       "      <th>4</th>\n",
       "      <td>Page A</td>\n",
       "      <td>0.67</td>\n",
       "    </tr>\n",
       "  </tbody>\n",
       "</table>\n",
       "</div>"
      ],
      "text/plain": [
       "     Page  Time\n",
       "0  Page A  0.21\n",
       "1  Page B  2.53\n",
       "2  Page A  0.35\n",
       "3  Page B  0.71\n",
       "4  Page A  0.67"
      ]
     },
     "execution_count": 34,
     "metadata": {},
     "output_type": "execute_result"
    }
   ],
   "source": [
    "session_times = pd.read_csv('./web_session_time.csv')\n",
    "session_times.head()"
   ]
  },
  {
   "cell_type": "code",
   "execution_count": 36,
   "id": "9c451422",
   "metadata": {},
   "outputs": [
    {
     "name": "stdout",
     "output_type": "stream",
     "text": [
      "21\n",
      "15\n"
     ]
    }
   ],
   "source": [
    "print(len(session_times[session_times['Page'] == 'Page A']))\n",
    "print(len(session_times[session_times['Page'] == 'Page B']))"
   ]
  },
  {
   "cell_type": "code",
   "execution_count": 37,
   "id": "c33160c9",
   "metadata": {},
   "outputs": [
    {
     "data": {
      "image/png": "[encoded data removed]",
      "text/plain": [
       "<Figure size 432x432 with 1 Axes>"
      ]
     },
     "metadata": {
      "needs_background": "light"
     },
     "output_type": "display_data"
    }
   ],
   "source": [
    "session_times.boxplot(column='Time', by='Page', figsize=(6, 6))\n",
    "plt.show()"
   ]
  },
  {
   "cell_type": "code",
   "execution_count": 38,
   "id": "ae8fbd81",
   "metadata": {},
   "outputs": [
    {
     "name": "stdout",
     "output_type": "stream",
     "text": [
      "0.3566666666666669\n"
     ]
    }
   ],
   "source": [
    "mean_A = session_times[session_times['Page'] == 'Page A']['Time'].mean()\n",
    "mean_B = session_times[session_times['Page'] == 'Page B']['Time'].mean()\n",
    "print(mean_B - mean_A) # web page A, B의 average session time의 차이(difference)"
   ]
  },
  {
   "cell_type": "code",
   "execution_count": null,
   "id": "0bf00744",
   "metadata": {},
   "outputs": [],
   "source": [
    "# A, B의 Time을 섞어서 하나의 데이터셋을 만듬\n",
    "# nA, nB 크기의 그룹 2개로 나누어야 함 "
   ]
  },
  {
   "cell_type": "code",
   "execution_count": 39,
   "id": "9cfa1ba0",
   "metadata": {},
   "outputs": [],
   "source": [
    "nA = 21\n",
    "nB = 15"
   ]
  },
  {
   "cell_type": "code",
   "execution_count": 41,
   "id": "e6826494",
   "metadata": {},
   "outputs": [],
   "source": [
    "n = nA + nB\n",
    "idx_list = set(list(range(n)))"
   ]
  },
  {
   "cell_type": "code",
   "execution_count": 42,
   "id": "0d05ff22",
   "metadata": {},
   "outputs": [],
   "source": [
    "import random"
   ]
  },
  {
   "cell_type": "code",
   "execution_count": 51,
   "id": "8925f3c1",
   "metadata": {},
   "outputs": [
    {
     "name": "stdout",
     "output_type": "stream",
     "text": [
      "{1, 2, 3, 6, 9, 10, 12, 13, 14, 15, 16, 18, 19, 20, 21, 23, 24, 25, 28, 32, 33}\n",
      "{0, 34, 35, 4, 5, 7, 8, 11, 17, 22, 26, 27, 29, 30, 31}\n"
     ]
    }
   ],
   "source": [
    "idx_A = set(random.sample(idx_list, nA))\n",
    "idx_B = idx_list - idx_A"
   ]
  },
  {
   "cell_type": "code",
   "execution_count": 54,
   "id": "209f1c85",
   "metadata": {},
   "outputs": [],
   "source": [
    "regroup_A = session_times['Time'].loc[idx_A]\n",
    "regroup_B = session_times['Time'].loc[idx_B]"
   ]
  },
  {
   "cell_type": "code",
   "execution_count": 55,
   "id": "385f67d0",
   "metadata": {},
   "outputs": [
    {
     "data": {
      "text/plain": [
       "-0.3530476190476195"
      ]
     },
     "execution_count": 55,
     "metadata": {},
     "output_type": "execute_result"
    }
   ],
   "source": [
    "regroup_B.mean() - regroup_A.mean()"
   ]
  },
  {
   "cell_type": "code",
   "execution_count": 56,
   "id": "f3569336",
   "metadata": {},
   "outputs": [],
   "source": [
    "def permute_test(times, nA, nB):\n",
    "    n = nA + nB\n",
    "    idx_list = set(list(range(n)))\n",
    "    idx_A = set(random.sample(idx_list, nA))\n",
    "    idx_B = idx_list - idx_A\n",
    "    \n",
    "    regroup_A = times.loc[idx_A]\n",
    "    regroup_B = times.loc[idx_B]\n",
    "    \n",
    "    return regroup_B.mean() - regroup_A.mean()"
   ]
  },
  {
   "cell_type": "code",
   "execution_count": 71,
   "id": "0200f3a6",
   "metadata": {},
   "outputs": [
    {
     "name": "stdout",
     "output_type": "stream",
     "text": [
      "0.14638095238095228\n"
     ]
    }
   ],
   "source": [
    "print(permute_test(session_times['Time'], nA, nB))"
   ]
  },
  {
   "cell_type": "code",
   "execution_count": 72,
   "id": "4a32be11",
   "metadata": {},
   "outputs": [],
   "source": [
    "random.seed(1)\n",
    "# permutation difference\n",
    "p_diffs = []\n",
    "for _ in range(1000):\n",
    "    diff = permute_test(session_times['Time'], nA, nB)\n",
    "    p_diffs.append(diff)"
   ]
  },
  {
   "cell_type": "code",
   "execution_count": 73,
   "id": "73f232c9",
   "metadata": {},
   "outputs": [
    {
     "data": {
      "text/plain": [
       "<AxesSubplot:ylabel='Frequency'>"
      ]
     },
     "execution_count": 73,
     "metadata": {},
     "output_type": "execute_result"
    },
    {
     "data": {
      "image/png": "[encoded data removed]",
      "text/plain": [
       "<Figure size 432x288 with 1 Axes>"
      ]
     },
     "metadata": {
      "needs_background": "light"
     },
     "output_type": "display_data"
    }
   ],
   "source": [
    "pd.Series(p_diffs).plot.hist()"
   ]
  },
  {
   "cell_type": "code",
   "execution_count": 76,
   "id": "c5ce748b",
   "metadata": {},
   "outputs": [
    {
     "data": {
      "image/png": "[encoded data removed]",
      "text/plain": [
       "<Figure size 432x432 with 1 Axes>"
      ]
     },
     "metadata": {
      "needs_background": "light"
     },
     "output_type": "display_data"
    }
   ],
   "source": [
    "fig, ax = plt.subplots(figsize = (6, 6))\n",
    "ax.hist(p_diffs, bins = 11, rwidth=0.9)\n",
    "\n",
    "ax.axvline(x=mean_B - mean_A, color='black', lw=2)\n",
    "ax.text(0.5, 140, 'Observed\\ndifference', bbox={'facecolor': 'white'})\n",
    "\n",
    "ax.set_xlabel('Sesstion time Difference')\n",
    "ax.set_ylabel('Frequency')\n",
    "\n",
    "plt.show()"
   ]
  },
  {
   "cell_type": "code",
   "execution_count": 77,
   "id": "1e515a78",
   "metadata": {},
   "outputs": [],
   "source": [
    "import numpy as np"
   ]
  },
  {
   "cell_type": "code",
   "execution_count": 78,
   "id": "59c1a6c8",
   "metadata": {},
   "outputs": [],
   "source": [
    "p_diffs = np.array(p_diffs)"
   ]
  },
  {
   "cell_type": "code",
   "execution_count": 82,
   "id": "e61e19f2",
   "metadata": {},
   "outputs": [
    {
     "data": {
      "text/plain": [
       "0.115"
      ]
     },
     "execution_count": 82,
     "metadata": {},
     "output_type": "execute_result"
    }
   ],
   "source": [
    "sum(p_diffs > mean_B - mean_A) / len(p_diffs)\n",
    "# null: A = B (True)"
   ]
  },
  {
   "cell_type": "code",
   "execution_count": null,
   "id": "a013bd7a",
   "metadata": {},
   "outputs": [],
   "source": []
  },
  {
   "cell_type": "markdown",
   "id": "a61e565a",
   "metadata": {},
   "source": [
    "|Outcome|Price A|Price B|\n",
    "|:---|:---|:---|\n",
    "|Purchase|200|182|\n",
    "|Not Purchase|23,539|22,406|"
   ]
  },
  {
   "cell_type": "code",
   "execution_count": null,
   "id": "7006f8cc",
   "metadata": {},
   "outputs": [],
   "source": [
    "# Price A, B에 따라서 구매율의 차이가 유의미하게 나는가\n",
    "# Null: 가격을 바꿔도 구매율 차이는 나지않는다 (A = B)\n",
    "# Alternative: 가격을 바꾸면 구매율 차이가 난다 (A is not B)\n",
    "\n",
    "# numeric: 숫자 자체가 의미를 가짐\n",
    "# categorical: -> numeric (label) # Purchase(1) / Not Purchase(0)"
   ]
  },
  {
   "cell_type": "code",
   "execution_count": 85,
   "id": "aed58d42",
   "metadata": {},
   "outputs": [],
   "source": [
    "nA = 200 + 23539\n",
    "nB = 182 + 22406"
   ]
  },
  {
   "cell_type": "code",
   "execution_count": 83,
   "id": "f624ff48",
   "metadata": {},
   "outputs": [
    {
     "name": "stdout",
     "output_type": "stream",
     "text": [
      "-0.0003675791182059275\n"
     ]
    }
   ],
   "source": [
    "rate_A = 200 / (200 + 23539)\n",
    "rate_B = 182 / (182 + 22406)\n",
    "rate_diff = rate_B - rate_A ###\n",
    "print(rate_diff)"
   ]
  },
  {
   "cell_type": "code",
   "execution_count": 99,
   "id": "a1bff814",
   "metadata": {},
   "outputs": [],
   "source": [
    "# Permutation Test\n",
    "# 1) 하나의 데이터셋으로 combine\n",
    "outcomes = [0] * (23539 + 22406) + [1] * (200 + 182)"
   ]
  },
  {
   "cell_type": "code",
   "execution_count": 101,
   "id": "c1ffcf75",
   "metadata": {},
   "outputs": [],
   "source": [
    "# 2) 새로 만든 데이터셋 하나를 -> nA 크기 그룹 하나와 nB 크기 그룹 하나로 재구축\n",
    "outcomes = random.sample(outcomes, len(outcomes))\n",
    "regroup_A, regroup_B = outcomes[:nA], outcomes[nA:]"
   ]
  },
  {
   "cell_type": "code",
   "execution_count": 114,
   "id": "f6f0e083",
   "metadata": {},
   "outputs": [
    {
     "data": {
      "text/plain": [
       "-0.0002811830501339343"
      ]
     },
     "execution_count": 114,
     "metadata": {},
     "output_type": "execute_result"
    }
   ],
   "source": [
    "r_A = sum(regroup_A) / len(regroup_A)\n",
    "r_B = sum(regroup_B) / len(regroup_B)\n",
    "r_B - r_A"
   ]
  },
  {
   "cell_type": "code",
   "execution_count": 125,
   "id": "a5ccf999",
   "metadata": {},
   "outputs": [],
   "source": [
    "def perm_test(outcome_list, nA, nB): # permutation test 1회 수행\n",
    "    n = nA + nB\n",
    "    idx_list = set(list(range(n)))\n",
    "    idx_A = set(random.sample(idx_list, nA))\n",
    "    idx_B = idx_list - idx_A\n",
    "    \n",
    "    regroup_A = outcome_list[idx_A]\n",
    "    regroup_B = outcome_list[idx_B]\n",
    "    \n",
    "    r_A = sum(regroup_A) / len(regroup_A)\n",
    "    r_B = sum(regroup_B) / len(regroup_B)\n",
    "    \n",
    "    return r_B - r_A"
   ]
  },
  {
   "cell_type": "code",
   "execution_count": 133,
   "id": "806fef4d",
   "metadata": {},
   "outputs": [
    {
     "data": {
      "text/plain": [
       "0.0007555697667299827"
      ]
     },
     "execution_count": 133,
     "metadata": {},
     "output_type": "execute_result"
    }
   ],
   "source": [
    "outcomes = [0] * (23539 + 22406) + [1] * (200 + 182)\n",
    "perm_test(pd.Series(outcomes), nA, nB)"
   ]
  },
  {
   "cell_type": "code",
   "execution_count": 136,
   "id": "0b24cd9e",
   "metadata": {},
   "outputs": [],
   "source": [
    "random.seed(1)\n",
    "outcomes = [0] * (23539 + 22406) + [1] * (200 + 182)\n",
    "rate_diffs = []\n",
    "for _ in range(500):\n",
    "    diff = perm_test(pd.Series(outcomes), nA, nB)\n",
    "    rate_diffs.append(diff)"
   ]
  },
  {
   "cell_type": "code",
   "execution_count": 140,
   "id": "c9b67427",
   "metadata": {},
   "outputs": [
    {
     "data": {
      "image/png": "[encoded data removed]",
      "text/plain": [
       "<Figure size 432x432 with 1 Axes>"
      ]
     },
     "metadata": {
      "needs_background": "light"
     },
     "output_type": "display_data"
    }
   ],
   "source": [
    "fig, ax = plt.subplots(figsize = (6, 6))\n",
    "ax.hist(rate_diffs, bins = 11, rwidth=0.9)\n",
    "\n",
    "ax.axvline(x=rate_diff, color='black', lw=2)\n",
    "ax.text(0.0006, 80, 'Observed\\ndifference', bbox={'facecolor': 'white'})\n",
    "\n",
    "ax.set_xlabel('Purchase rate Difference')\n",
    "ax.set_ylabel('Frequency')\n",
    "\n",
    "plt.show()"
   ]
  },
  {
   "cell_type": "code",
   "execution_count": 141,
   "id": "2a96b948",
   "metadata": {},
   "outputs": [
    {
     "name": "stdout",
     "output_type": "stream",
     "text": [
      "0.65\n"
     ]
    }
   ],
   "source": [
    "rate_diffs = np.array(rate_diffs)\n",
    "print(sum(rate_diffs > rate_diff) / len(rate_diffs))"
   ]
  },
  {
   "cell_type": "markdown",
   "id": "83bc088e",
   "metadata": {},
   "source": [
    "* random permutation test(randomization test): random shuffling & dividing\n",
    "* exhaustive permutation test(exact test)\n",
    "* bootstrap permutation test\n",
    "\n",
    "##### exhaustive permutation test\n",
    "* 데이터가 나누어질 수 있는 모든 경우의 수 고려 (sample size가 작을 때만 실용적)\n",
    "\n",
    "##### bootstrap permutation test\n",
    "* 복원추출로 진행"
   ]
  },
  {
   "cell_type": "markdown",
   "id": "f61de1cc",
   "metadata": {},
   "source": [
    "## Statistical Significance and p-Values\n",
    "* statistical significance: 우연히 일어날 수 있는 것보다 극단적인 결과를 내는지 측정하는 것   \n",
    "chance variation 범위를 넘어서는 경우 통계적으로 유의하다고 판단함\n",
    "* p-value: chance model에서 관찰된 결과보다 극단적인(extreme) 값이 나올 수 있는 빈도(frequency)"
   ]
  },
  {
   "attachments": {
    "image.png": {
     "image/png": "[encoded data removed]"
    }
   },
   "cell_type": "markdown",
   "id": "5ddb4b44",
   "metadata": {},
   "source": [
    "### Alpha(α)\n",
    "* null hypothesis 기각(reject) 기준이 되는 임계값(threshold)\n",
    "* 일반적으로 alpha level은 5%(0.05), 1%(0.01) 사용\n",
    "\n",
    "### Type I error, Type II error\n",
    "* Type I error: 참인 가설을 기각하는 오류(false negative)\n",
    "* Type II error: 거짓인 가설을 채택하는 오류(false positive)\n",
    "\n",
    "\n",
    "confusion matrix\n",
    "![image.png](attachment:image.png)"
   ]
  },
  {
   "cell_type": "markdown",
   "id": "233cb0d9",
   "metadata": {},
   "source": [
    "* 데이터의 타입(count data / measured data), sample 개수 등에 따라 적절한 타입의 significance test 사용"
   ]
  }
 ],
 "metadata": {
  "kernelspec": {
   "display_name": "env_temp",
   "language": "python",
   "name": "env_temp"
  },
  "language_info": {
   "codemirror_mode": {
    "name": "ipython",
    "version": 3
   },
   "file_extension": ".py",
   "mimetype": "text/x-python",
   "name": "python",
   "nbconvert_exporter": "python",
   "pygments_lexer": "ipython3",
   "version": "3.8.10"
  }
 },
 "nbformat": 4,
 "nbformat_minor": 5
}
