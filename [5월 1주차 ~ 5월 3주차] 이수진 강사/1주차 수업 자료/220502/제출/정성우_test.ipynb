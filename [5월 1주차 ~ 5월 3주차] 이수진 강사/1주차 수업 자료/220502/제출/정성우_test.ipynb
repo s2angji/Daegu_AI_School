{
 "cells": [
  {
   "cell_type": "markdown",
   "id": "899a0e0d",
   "metadata": {},
   "source": [
    "### (1)\n",
    "아래와 같은 dict 타입의 값이 주어질 때,   \n",
    "value의 순서에 따라 key의 순서로 이루어진 리스트를 반환하는 함수 구현   \n",
    "value 값이 같은 경우 key 값의 사전 순서에 따라 정렬\n",
    "\n",
    "예시)   \n",
    "함수 입력값: {'a': 10, 'b': 15, 'c': 15, 'd': 0, 'e': 5}   \n",
    "함수 반환값: ['d', 'e', 'a', 'b', 'c']\n"
   ]
  },
  {
   "cell_type": "code",
   "execution_count": 129,
   "id": "abd9ad43",
   "metadata": {},
   "outputs": [],
   "source": [
    "# 함수\n",
    "def sort_dict(d):\n",
    "    sorted_dic=dict(sorted(data_dict.items(),key=lambda item:item[1]))\n",
    "    sorted_list = list(sorted_dic.keys())\n",
    "    \n",
    "    return sorted_list\n",
    "# 잘 몰라서 인터넷 검색했습니다.\n",
    "# 소팅했더니 리스트로 나오는데 거기서 뽑는법을 몰라서 다시 딕셔너리로 바꿨다가\n",
    "# keys로 뽑아서 다시 list로 바꿨습니다."
   ]
  },
  {
   "cell_type": "code",
   "execution_count": 130,
   "id": "cce735bd",
   "metadata": {},
   "outputs": [
    {
     "name": "stdout",
     "output_type": "stream",
     "text": [
      "['banana', 'apple', 'cake', 'fruit', 'ham', 'egg', 'desert', 'grape']\n"
     ]
    }
   ],
   "source": [
    "# 실행문\n",
    "data_dict = {'apple': 10, 'banana': 5, 'cake': 15, 'desert': 35,\n",
    "            'egg': 30, 'fruit': 15, 'grape': 50, 'ham': 25}\n",
    "\n",
    "print(sort_dict(data_dict))\n",
    "# 수행 결과: ['banana', 'apple', cake', 'fruit', 'ham', 'egg', 'desert', 'grape']"
   ]
  },
  {
   "cell_type": "markdown",
   "id": "113bc92e",
   "metadata": {},
   "source": [
    "### (2)\n",
    "주어진 list 데이터를 dict 형태로 변환하여 반환하는 함수 구현   \n",
    "list는 '도서명', 가격 순으로 나열되어 있음   \n",
    "1) 도서명이 없는 경우: list에서 몇번째 자료인지 출력. dict에 저장하지 않음   \n",
    "2) 가격이 문자형인 경우: int로 형변환 후 dict에 저장\n",
    "\n",
    "예시)   \n",
    "함수 입력값: ['a', 10, 'b', 15, 'c', 15, 'd', 20, 'e', 5]   \n",
    "함수 반환값: {'a': 10, 'b': 15, 'c': 15, 'd': 20, 'e': 5}\n",
    "\n",
    "예시-1)\n",
    "함수 입력값: ['a', 10, '', 15, 'c', 15, 'd', 20, 'e', 5]   \n",
    "출력: '2번째 도서명 미기입'"
   ]
  },
  {
   "cell_type": "code",
   "execution_count": 165,
   "id": "e2c9e09f",
   "metadata": {},
   "outputs": [],
   "source": [
    "# 함수\n",
    "def list2dict(l):\n",
    "    re_dict = {}\n",
    "    for i in range(0,len(data_list),2):\n",
    "        if l[i]=='':\n",
    "            print(f'{int((i+2)/2)}번째 도서명 미기입')\n",
    "        else :\n",
    "            re_dict[l[i]]=int(l[i+1])\n",
    "            \n",
    "    # 내용\n",
    "    \n",
    "    return re_dict\n",
    "# 이렇게 반복문써서 하나씩 넣는방법 말고는 없을까요"
   ]
  },
  {
   "cell_type": "code",
   "execution_count": 166,
   "id": "db31e2bf",
   "metadata": {},
   "outputs": [
    {
     "name": "stdout",
     "output_type": "stream",
     "text": [
      "4번째 도서명 미기입\n",
      "{'롤랑의 노래': 19800, '7년의 밤': 14500, '달 샤베트': 12000, '백광': 14500}\n"
     ]
    }
   ],
   "source": [
    "# 실행문\n",
    "data_list = ['롤랑의 노래', 19800, '7년의 밤', '14500', '달 샤베트', 12000, \n",
    "             '', 13800, '백광', '14500']\n",
    "\n",
    "print(list2dict(data_list))\n",
    "# 수행 결과: \n",
    "# 4번째 도서명 미기입\n",
    "# {'롤랑의 노래', 19800, '7년의 밤', 14500, '달 샤베트', 12000, '백광', 14500}"
   ]
  },
  {
   "cell_type": "markdown",
   "id": "0274c67e",
   "metadata": {},
   "source": [
    "### (3)\n",
    "도서 현황 리스트를 관리하는 클래스 구현하기\n",
    "\n",
    "클래스 선언 시, list 자료형을 매개변수로 넣으며   \n",
    "list에는 각 책에 대한 (책제목, 작가명, 가격, 보유 장서 수)가 들어있음\n",
    "\n",
    "1) constructor을 사용하여 list로 입력된 정보를 books 변수에 list와 dict를 사용하여 정리   \n",
    "예시)   \n",
    "입력: [('롤랑의 노래', '-', 19800, 6), ...]   \n",
    "books: [{name: '롤랑의 노래', 'author': '-', 'cost': 19800, 'count': 6}, ...]\n",
    "\n",
    "2) 총 보유 장서 수를 출력하는 함수 구현   \n",
    "3) 총 보유 장서의 가치를 출력하는 함수 구현   \n",
    "가치는 '가격 * 보유 장서 수'로 계산 함    \n",
    "4) 조건 입력 시 해당되는 조건의 책 제목을 출력하는 함수 구현. 조건은 '이름 부등호 값'으로 작성됨\n",
    "예시)   \n",
    "'cost > 16000'   \n",
    "\"author == '김초엽'\""
   ]
  },
  {
   "cell_type": "code",
   "execution_count": 408,
   "id": "d8203c58",
   "metadata": {},
   "outputs": [],
   "source": [
    "class manageBooks:\n",
    "    def __init__(self, list_books):\n",
    "        self.books = []\n",
    "        for i in range(0,len(list_books)):\n",
    "            re_dict={}\n",
    "            re_dict['name']=list_books[i][0]\n",
    "            re_dict['author']=list_books[i][1]\n",
    "            re_dict['cost']=list_books[i][2]\n",
    "            re_dict['count']=list_books[i][3]\n",
    "            self.books.append(re_dict)\n",
    "            \n",
    "    def countBook(self):  # 입력 파라미터 없음\n",
    "        countb=0\n",
    "        for i in range(0,len(books)):\n",
    "            countb=countb+books[i]['count']\n",
    "        return countb\n",
    "    \n",
    "    def costBook(self): # 입력 파라미터 없음\n",
    "        costb=0\n",
    "        for i in range(0,len(books)):\n",
    "            costb=costb+int(books[i]['cost'])*books[i]['count']\n",
    "        return costb\n",
    "    def search(self,st):\n",
    "        st=st.replace(' ','')\n",
    "        ans=[]\n",
    "        for i in range(0,len(st)):\n",
    "            if not (str.isalnum(st[i]) or str.isalnum(st[i+1])):\n",
    "                n=st[:i]\n",
    "                b=st[i:i+2]\n",
    "                c=st[i+2:]\n",
    "                break\n",
    "            elif not (str.isalnum(st[i]) or (not str.isalnum(st[i+1]))) :\n",
    "                n=st[:i-1]\n",
    "                b=st[i-1]\n",
    "                c=st[i:]\n",
    "                break\n",
    "        for i in range(0,len(books)):\n",
    "            if f\"books[{i}]['{n}']{b}{c}\":\n",
    "                ans.append(books[i]['name'])\n",
    "        return ans\n",
    "            \n",
    "# 입력받은걸 어떻게 나누지 몇번째값이 부등호인가를 코딩으로 어떻게 쓰는지?\n",
    "# 공백을없애고 부등호 전후로 값을 총 3개로 나눠서\n",
    "# n b c 에 각각 나눠담았는데 조건문은 어떻게쓰지 항상맞다고되는듯\n"
   ]
  },
  {
   "cell_type": "code",
   "execution_count": 411,
   "id": "c752737e",
   "metadata": {},
   "outputs": [
    {
     "name": "stdout",
     "output_type": "stream",
     "text": [
      "79\n",
      "1195200\n",
      "['롤랑의 노래', '7년의 밤', '달 샤베트', '달러구트 꿈 백화점', '백광', '지구 끝의 온실', '이기적 유전자', '파과', '긴긴밤', '방구석 미술관']\n",
      "['롤랑의 노래', '7년의 밤', '달 샤베트', '달러구트 꿈 백화점', '백광', '지구 끝의 온실', '이기적 유전자', '파과', '긴긴밤', '방구석 미술관']\n",
      ">\n"
     ]
    }
   ],
   "source": [
    "# 실행문\n",
    "list_book = [('롤랑의 노래', '-', 19800, 6),\n",
    "             ('7년의 밤', '정유정', 14500, 3),\n",
    "             ('달 샤베트', '백희나', 12000, 11),\n",
    "             ('달러구트 꿈 백화점', '이미예', 13800, 14),\n",
    "             ('백광', '렌조 미키히코', 14500, 7),\n",
    "             ('지구 끝의 온실', '김초엽', 15000, 11),\n",
    "             ('이기적 유전자', '리처드 도킨스', 20000, 8),\n",
    "             ('파과', '구병모', 14000, 6),\n",
    "             ('긴긴밤', '루리', 11500, 4),\n",
    "             ('방구석 미술관', '조원재', 16800, 9)]\n",
    "\n",
    "manage_books = manageBooks(list_book)\n",
    "print(manage_books.countBook()) # 79\n",
    "print(manage_books.costBook()) # 1195200\n",
    "print(manage_books.search('cost > 16000'))\n",
    "# ['롤랑의 노래', '이기적 유전자', '방구석 미술관']\n",
    "print(manage_books.search(\"author == '김초엽'\")) # ['지구 끝의 온실']"
   ]
  },
  {
   "cell_type": "code",
   "execution_count": 394,
   "id": "ad79ef59",
   "metadata": {},
   "outputs": [
    {
     "name": "stdout",
     "output_type": "stream",
     "text": [
      "author=='김초엽'\n",
      "13\n",
      "=\n"
     ]
    }
   ],
   "source": [
    "def search(st):\n",
    "    st=st.replace(' ','')\n",
    "    ans=[]\n",
    "    print(st)\n",
    "    print(len(st))\n",
    "    for i in range(0,len(st)):\n",
    "        if not (str.isalnum(st[i]) or str.isalnum(st[i+1])):\n",
    "            n=st[:i]\n",
    "            b=st[i:i+2]\n",
    "            c=st[i+2:]\n",
    "            print(st[i])\n",
    "            break\n",
    "        elif not (str.isalnum(st[i]) or (not str.isalnum(st[i+1]))) :\n",
    "            n=st[:i-1]\n",
    "            b=st[i-1]\n",
    "            c=st[i:]\n",
    "            break\n",
    "search(\"author == '김초엽'\")"
   ]
  },
  {
   "cell_type": "markdown",
   "id": "1a1260d7",
   "metadata": {},
   "source": [
    "### (4)\n",
    "숫자 단위를 변형하는 클래스 구현하기\n",
    "\n",
    "선언 시 클래스가 가질 값과 단위(m, km)를 설정하며(각 변수명은 value. unit 사용),   \n",
    "직접 값에 접근해 출력하는 것이 불가능하게 함(print(클래스.value) 사용 불가)   \n",
    "아래처럼 함수를 선언함\n",
    "\n",
    "1) m를 km로 변환하는 함수, 변환된 값을 클래스내 저장   \n",
    "예시)   \n",
    "24000, 'm' -> 24, 'km'   \n",
    "'m'가 아닌 경우 변화 없음   \n",
    "2) km를 m로 변환하는 함수, 변환된 값을 클래스내 저장   \n",
    "예시)   \n",
    "2, 'km' -> 2000, 'm'   \n",
    "'km'가 아닌 경우 변화 없음   \n",
    "3) 클래스 내 저장된 값을 단위를 더하여 str 형태로 출력하는 함수\n",
    "예시)   \n",
    "24000, 'm' -> '24,000m'   \n",
    "단위가 ' '인 경우 ' ' 반환   \n",
    "4) setter 데코레이터를 사용하여, 클래스 내 저장된 값이나 단위를 바꿀 때 다음을 적용함   \n",
    "* 값을 바꿀 때 음수를 넣을 경우 0으로 변환하여 저장   \n",
    "* 'm', 'km' 이외의 단위를 넣는 경우 빈문자 ' '로 변환하여 저장   \n",
    "예시)   \n",
    " -5000 -> 0    \n",
    " 'cm' -> ' '\n",
    "\n",
    "\n",
    "* 모든 값은 소수점 아래 4자리에서 반올림하여 사용"
   ]
  },
  {
   "cell_type": "code",
   "execution_count": null,
   "id": "1297badf",
   "metadata": {},
   "outputs": [],
   "source": [
    "class Converter:\n",
    "    def __init__(self, value, unit):\n",
    "        self.__value = value\n",
    "        self.__unit = unit\n",
    "        \n",
    "    # decorator를 사용하여 4) 구현\n",
    "        \n",
    "    def cToM( ... ):\n",
    "        ... \n",
    "    \n",
    "    def cToKm( ... ):\n",
    "        ...\n",
    "    \n",
    "    def printValue( ... ):\n",
    "        ...\n",
    "        return ... # type str"
   ]
  },
  {
   "cell_type": "code",
   "execution_count": null,
   "id": "d7aaa94b",
   "metadata": {},
   "outputs": [],
   "source": [
    "# 실행문\n",
    "metric = Converter(1000, 'm')\n",
    "print(metric.printValue()) # 1,000 m\n",
    "\n",
    "metric.cToKm()\n",
    "print(metric.printValue()) # 1.0 km\n",
    "\n",
    "metric.value = 300\n",
    "metric.unit = 'm'\n",
    "print(metric.printValue()) # 300 m\n",
    "\n",
    "metric.value = -50\n",
    "print(metric.printValue()) # 0 m\n",
    "\n",
    "metric.unit = 'cm'\n",
    "print(metric.printValue()) # ''"
   ]
  },
  {
   "cell_type": "markdown",
   "id": "de37feaa",
   "metadata": {},
   "source": [
    "### (5)\n",
    "(4)에서 구현한 클래스를 상속하기\n",
    "\n",
    "단위 mile를 추가 적용.   \n",
    "(4)에서 선언한 함수가 변형되지 않도록 상속하여 사용   \n",
    "\n",
    "(4)의 1), 2) 함수가 mile에 대해서도 제 기능을 하도록   \n",
    "아래와 같이 변형함\n",
    "\n",
    "1) m, mile을 km로 변환하는 함수, 변환된 값을 클래스내 저장   \n",
    "예시)   \n",
    "24000, 'm' -> 24, 'km'   \n",
    "'m', 'mile'이 아닌 경우 변화 없음   \n",
    "2) km, mile를 m로 변환하는 함수, 변환된 값을 클래스내 저장   \n",
    "예시)   \n",
    "2, 'km' -> 2000, 'm'   \n",
    "'km', 'mile'이 아닌 경우 변화 없음   \n",
    "\n",
    "\n",
    "아래 함수를 추가로 구현함   \n",
    "5) m, km를 mile로 변환하는 함수. 변환된 값을 클래스내 저장   \n",
    "예시)   \n",
    "2, 'km' -> 1.243, 'mile'   \n",
    "'m', 'km'가 아닌 경우 변화 없음   \n",
    "\n",
    "* 1 mile = 1.609 km 로 계산(소수점 아래 4자리에서 반올림하여 사용)\n",
    "* 4)의 setter 가능은 제거한 Converter 클래스 사용"
   ]
  },
  {
   "cell_type": "code",
   "execution_count": null,
   "id": "86424733",
   "metadata": {},
   "outputs": [],
   "source": [
    "class Converter: # (4)에서 decorator 구현 부분을 제외하고 사용\n",
    "    def __init__(self, value, unit):\n",
    "        self.value = value\n",
    "        self.unit = unit\n",
    "        \n",
    "    def cToM( ... ):\n",
    "        ... \n",
    "    \n",
    "    def cToKm( ... ):\n",
    "        ...\n",
    "    \n",
    "    def printValue( ... ):\n",
    "        ...\n",
    "        return ... # type str"
   ]
  },
  {
   "cell_type": "code",
   "execution_count": null,
   "id": "9b7c4637",
   "metadata": {},
   "outputs": [],
   "source": [
    "class Converter_2(Converter):\n",
    "    # 문제 조건을 만족하도록 함수 작성"
   ]
  },
  {
   "cell_type": "code",
   "execution_count": null,
   "id": "c532b045",
   "metadata": {},
   "outputs": [],
   "source": [
    "# 실행문\n",
    "metric = Converter_2(1000, 'm')\n",
    "print(metric.printValue()) # 1,000 m\n",
    "\n",
    "metric.cToMile()\n",
    "print(metric.printValue()) # 0.622 mile\n",
    "\n",
    "metric.value = 300\n",
    "metric.cToM()\n",
    "print(metric.printValue()) # 482,700.0 m\n",
    "\n",
    "metric.cToKm()\n",
    "print(metric.printValue()) # 482.7 km"
   ]
  },
  {
   "cell_type": "code",
   "execution_count": null,
   "id": "4e78a602",
   "metadata": {},
   "outputs": [],
   "source": [
    "append 는 한번에 넣고 extend 는 나눠서 넣음"
   ]
  },
  {
   "cell_type": "code",
   "execution_count": null,
   "id": "b3696826",
   "metadata": {},
   "outputs": [],
   "source": []
  }
 ],
 "metadata": {
  "kernelspec": {
   "display_name": "env_ai",
   "language": "python",
   "name": "env_ai"
  },
  "language_info": {
   "codemirror_mode": {
    "name": "ipython",
    "version": 3
   },
   "file_extension": ".py",
   "mimetype": "text/x-python",
   "name": "python",
   "nbconvert_exporter": "python",
   "pygments_lexer": "ipython3",
   "version": "3.7.13"
  }
 },
 "nbformat": 4,
 "nbformat_minor": 5
}
