{
 "cells": [
  {
   "cell_type": "markdown",
   "id": "899a0e0d",
   "metadata": {},
   "source": [
    "### (1)\n",
    "아래와 같은 dict 타입의 값이 주어질 때,   \n",
    "value의 순서에 따라 key의 순서로 이루어진 리스트를 반환하는 함수 구현   \n",
    "value 값이 같은 경우 key 값의 사전 순서에 따라 정렬\n",
    "\n",
    "예시)   \n",
    "함수 입력값: {'a': 10, 'b': 15, 'c': 15, 'd': 0, 'e': 5}   \n",
    "함수 반환값: ['d', 'e', 'a', 'b', 'c']\n"
   ]
  },
  {
   "cell_type": "code",
   "execution_count": 99,
   "id": "abd9ad43",
   "metadata": {},
   "outputs": [],
   "source": [
    "# 함수\n",
    "def sort_dict(d):\n",
    "    sorted_list = []\n",
    "    # 내용\n",
    "    \n",
    "    sorted_list = list(sorted(d.items(), key=lambda x: x[1]))\n",
    "    \n",
    "    #value 값에 따라 정렬은 했는데 key값만 뽑는 방법을 모르겠습니다!\n",
    "    \n",
    "    return sorted_list"
   ]
  },
  {
   "cell_type": "code",
   "execution_count": 79,
   "id": "dc4fb0fb",
   "metadata": {},
   "outputs": [
    {
     "name": "stdout",
     "output_type": "stream",
     "text": [
      "dict_keys(['apple', 'banana', 'cake', 'desert', 'egg', 'fruit', 'grape', 'ham'])\n",
      "dict_values([10, 5, 15, 35, 30, 15, 50, 25])\n",
      "dict_items([('apple', 10), ('banana', 5), ('cake', 15), ('desert', 35), ('egg', 30), ('fruit', 15), ('grape', 50), ('ham', 25)])\n"
     ]
    }
   ],
   "source": [
    "# 실행문\n",
    "data_dict = {'apple': 10, 'banana': 5, 'cake': 15, 'desert': 35,\n",
    "            'egg': 30, 'fruit': 15, 'grape': 50, 'ham': 25}\n",
    "\n",
    "print(data_dict.keys())\n",
    "print(data_dict.values())\n",
    "print(data_dict.items())"
   ]
  },
  {
   "cell_type": "code",
   "execution_count": 100,
   "id": "cce735bd",
   "metadata": {},
   "outputs": [
    {
     "name": "stdout",
     "output_type": "stream",
     "text": [
      "[('banana', 5), ('apple', 10), ('cake', 15), ('fruit', 15), ('ham', 25), ('egg', 30), ('desert', 35), ('grape', 50)]\n"
     ]
    }
   ],
   "source": [
    "# 실행문\n",
    "data_dict = {'apple': 10, 'banana': 5, 'cake': 15, 'desert': 35,\n",
    "            'egg': 30, 'fruit': 15, 'grape': 50, 'ham': 25}\n",
    "\n",
    "print(sort_dict(data_dict))\n",
    "# 수행 결과: ['banana', 'apple', cake', 'fruit', 'ham', 'egg', 'desert', 'grape']"
   ]
  },
  {
   "cell_type": "markdown",
   "id": "113bc92e",
   "metadata": {},
   "source": [
    "### (2)\n",
    "주어진 list 데이터를 dict 형태로 변환하여 반환하는 함수 구현   \n",
    "list는 '도서명', 가격 순으로 나열되어 있음   \n",
    "1) 도서명이 없는 경우: list에서 몇번째 자료인지 출력. dict에 저장하지 않음   \n",
    "2) 가격이 문자형인 경우: int로 형변환 후 dict에 저장\n",
    "\n",
    "예시)   \n",
    "함수 입력값: ['a', 10, 'b', 15, 'c', 15, 'd', 20, 'e', 5]   \n",
    "함수 반환값: {'a': 10, 'b': 15, 'c': 15, 'd': 20, 'e': 5}\n",
    "\n",
    "예시-1)\n",
    "함수 입력값: ['a', 10, '', 15, 'c', 15, 'd', 20, 'e', 5]   \n",
    "출력: '2번째 도서명 미기입'"
   ]
  },
  {
   "cell_type": "code",
   "execution_count": 127,
   "id": "e2c9e09f",
   "metadata": {},
   "outputs": [],
   "source": [
    "# 함수\n",
    "def list2dict(l):\n",
    "    re_dict = {}\n",
    "    # 내용\n",
    "    list1 = []\n",
    "    list2 = []\n",
    "    \n",
    "    for i in range(0, len(l),2):\n",
    "        if l[i] == \"\":\n",
    "            print('%d번째 도서명 미기입' % (i/2+1))\n",
    "        else:\n",
    "            list1.append(l[i])\n",
    "            list2.append(l[i+1])\n",
    "     \n",
    "    #for value in l[1::2]:\n",
    "     #   list2.append(value)\n",
    "        \n",
    "    list2 = map(int, list2) #int로 형변환\n",
    "    \n",
    "    re_dict = dict(zip(list1, list2))\n",
    "    \n",
    "    return re_dict"
   ]
  },
  {
   "cell_type": "code",
   "execution_count": null,
   "id": "9b0c00ec",
   "metadata": {},
   "outputs": [],
   "source": []
  },
  {
   "cell_type": "code",
   "execution_count": 128,
   "id": "db31e2bf",
   "metadata": {},
   "outputs": [
    {
     "name": "stdout",
     "output_type": "stream",
     "text": [
      "4번째 도서명 미기입\n",
      "{'롤랑의 노래': 19800, '7년의 밤': 14500, '달 샤베트': 12000, '백광': 14500}\n"
     ]
    }
   ],
   "source": [
    "# 실행문\n",
    "data_list = ['롤랑의 노래', 19800, '7년의 밤', '14500', '달 샤베트', 12000, \n",
    "             '', 13800, '백광', '14500']\n",
    "\n",
    "print(list2dict(data_list))\n",
    "# 수행 결과: \n",
    "# 4번째 도서명 미기입\n",
    "# {'롤랑의 노래', 19800, '7년의 밤', 14500, '달 샤베트', 12000, '백광', 14500}"
   ]
  },
  {
   "cell_type": "markdown",
   "id": "0274c67e",
   "metadata": {},
   "source": [
    "### (3)\n",
    "도서 현황 리스트를 관리하는 클래스 구현하기\n",
    "\n",
    "클래스 선언 시, list 자료형을 매개변수로 넣으며   \n",
    "list에는 각 책에 대한 (책제목, 작가명, 가격, 보유 장서 수)가 들어있음\n",
    "\n",
    "1) constructor을 사용하여 list로 입력된 정보를 books 변수에 list와 dict를 사용하여 정리   \n",
    "예시)   \n",
    "입력: [('롤랑의 노래', '-', 19800, 6), ...]   \n",
    "books: [{name: '롤랑의 노래', 'author': '-', 'cost': 19800, 'count': 6}, ...]\n",
    "\n",
    "2) 총 보유 장서 수를 출력하는 함수 구현   \n",
    "3) 총 보유 장서의 가치를 출력하는 함수 구현   \n",
    "가치는 '가격 * 보유 장서 수'로 계산 함    \n",
    "4) 조건 입력 시 해당되는 조건의 책 제목을 출력하는 함수 구현. 조건은 '이름 부등호 값'으로 작성됨\n",
    "예시)   \n",
    "'cost > 16000'   \n",
    "\"author == '김초엽'\""
   ]
  },
  {
   "cell_type": "code",
   "execution_count": 137,
   "id": "d8203c58",
   "metadata": {},
   "outputs": [],
   "source": [
    "class manageBooks:\n",
    "    def __init__(self, list_books):\n",
    "        self.books = []\n",
    "        \n",
    "        for i in range(0, len(list_books)):\n",
    "            self.books[i] = dict(name = list_books[i,0] , author = list_books[i,1], cost = list_books[i,2], count = list_books[i,3])\n",
    "                    \n",
    "    def countBook():  # 입력 파라미터 없음\n",
    "        for i in self.books:\n",
    "            sum += i['count']\n",
    "        return sum # type int\n",
    "    \n",
    "    def costBook(): # 입력 파라미터 없음\n",
    "        for i in self.books:\n",
    "            sum += i['cost']\n",
    "        return sum # type int\n",
    "    \n",
    "    def search(input): # str 입력\n",
    "        for i in self.books:\n",
    "            if input == ture:\n",
    "                list.append(i['name'])\n",
    "                \n",
    "        return list  # type list # ['책제목 1', '책제목 2', ...]\n",
    "    \n",
    "    #list 자료를 dict에 정리해서 넣는 방법을 모르겠습니다.ㅠ"
   ]
  },
  {
   "cell_type": "code",
   "execution_count": 138,
   "id": "c752737e",
   "metadata": {},
   "outputs": [
    {
     "ename": "TypeError",
     "evalue": "list indices must be integers or slices, not tuple",
     "output_type": "error",
     "traceback": [
      "\u001b[1;31m---------------------------------------------------------------------------\u001b[0m",
      "\u001b[1;31mTypeError\u001b[0m                                 Traceback (most recent call last)",
      "\u001b[1;32m~\\AppData\\Local\\Temp\\ipykernel_7656\\4171796125.py\u001b[0m in \u001b[0;36m<module>\u001b[1;34m\u001b[0m\n\u001b[0;32m     11\u001b[0m              ('방구석 미술관', '조원재', 16800, 9)]\n\u001b[0;32m     12\u001b[0m \u001b[1;33m\u001b[0m\u001b[0m\n\u001b[1;32m---> 13\u001b[1;33m \u001b[0mmanage_books\u001b[0m \u001b[1;33m=\u001b[0m \u001b[0mmanageBooks\u001b[0m\u001b[1;33m(\u001b[0m\u001b[0mlist_book\u001b[0m\u001b[1;33m)\u001b[0m\u001b[1;33m\u001b[0m\u001b[1;33m\u001b[0m\u001b[0m\n\u001b[0m\u001b[0;32m     14\u001b[0m \u001b[0mprint\u001b[0m\u001b[1;33m(\u001b[0m\u001b[0mmanage_books\u001b[0m\u001b[1;33m.\u001b[0m\u001b[0mcountBook\u001b[0m\u001b[1;33m(\u001b[0m\u001b[1;33m)\u001b[0m\u001b[1;33m)\u001b[0m \u001b[1;31m# 79\u001b[0m\u001b[1;33m\u001b[0m\u001b[1;33m\u001b[0m\u001b[0m\n\u001b[0;32m     15\u001b[0m \u001b[0mprint\u001b[0m\u001b[1;33m(\u001b[0m\u001b[0mmanage_books\u001b[0m\u001b[1;33m.\u001b[0m\u001b[0mcostBook\u001b[0m\u001b[1;33m(\u001b[0m\u001b[1;33m)\u001b[0m\u001b[1;33m)\u001b[0m \u001b[1;31m# 1195200\u001b[0m\u001b[1;33m\u001b[0m\u001b[1;33m\u001b[0m\u001b[0m\n",
      "\u001b[1;32m~\\AppData\\Local\\Temp\\ipykernel_7656\\57121581.py\u001b[0m in \u001b[0;36m__init__\u001b[1;34m(self, list_books)\u001b[0m\n\u001b[0;32m      4\u001b[0m \u001b[1;33m\u001b[0m\u001b[0m\n\u001b[0;32m      5\u001b[0m         \u001b[1;32mfor\u001b[0m \u001b[0mi\u001b[0m \u001b[1;32min\u001b[0m \u001b[0mrange\u001b[0m\u001b[1;33m(\u001b[0m\u001b[1;36m0\u001b[0m\u001b[1;33m,\u001b[0m \u001b[0mlen\u001b[0m\u001b[1;33m(\u001b[0m\u001b[0mlist_books\u001b[0m\u001b[1;33m)\u001b[0m\u001b[1;33m)\u001b[0m\u001b[1;33m:\u001b[0m\u001b[1;33m\u001b[0m\u001b[1;33m\u001b[0m\u001b[0m\n\u001b[1;32m----> 6\u001b[1;33m             \u001b[0mself\u001b[0m\u001b[1;33m.\u001b[0m\u001b[0mbooks\u001b[0m\u001b[1;33m[\u001b[0m\u001b[0mi\u001b[0m\u001b[1;33m]\u001b[0m \u001b[1;33m=\u001b[0m \u001b[0mdict\u001b[0m\u001b[1;33m(\u001b[0m\u001b[0mname\u001b[0m \u001b[1;33m=\u001b[0m \u001b[0mlist_books\u001b[0m\u001b[1;33m[\u001b[0m\u001b[0mi\u001b[0m\u001b[1;33m,\u001b[0m\u001b[1;36m0\u001b[0m\u001b[1;33m]\u001b[0m \u001b[1;33m,\u001b[0m \u001b[0mauthor\u001b[0m \u001b[1;33m=\u001b[0m \u001b[0mlist_books\u001b[0m\u001b[1;33m[\u001b[0m\u001b[0mi\u001b[0m\u001b[1;33m,\u001b[0m\u001b[1;36m1\u001b[0m\u001b[1;33m]\u001b[0m\u001b[1;33m,\u001b[0m \u001b[0mcost\u001b[0m \u001b[1;33m=\u001b[0m \u001b[0mlist_books\u001b[0m\u001b[1;33m[\u001b[0m\u001b[0mi\u001b[0m\u001b[1;33m,\u001b[0m\u001b[1;36m2\u001b[0m\u001b[1;33m]\u001b[0m\u001b[1;33m,\u001b[0m \u001b[0mcount\u001b[0m \u001b[1;33m=\u001b[0m \u001b[0mlist_books\u001b[0m\u001b[1;33m[\u001b[0m\u001b[0mi\u001b[0m\u001b[1;33m,\u001b[0m\u001b[1;36m3\u001b[0m\u001b[1;33m]\u001b[0m\u001b[1;33m)\u001b[0m\u001b[1;33m\u001b[0m\u001b[1;33m\u001b[0m\u001b[0m\n\u001b[0m\u001b[0;32m      7\u001b[0m \u001b[1;33m\u001b[0m\u001b[0m\n\u001b[0;32m      8\u001b[0m     \u001b[1;32mdef\u001b[0m \u001b[0mcountBook\u001b[0m\u001b[1;33m(\u001b[0m\u001b[1;33m)\u001b[0m\u001b[1;33m:\u001b[0m  \u001b[1;31m# 입력 파라미터 없음\u001b[0m\u001b[1;33m\u001b[0m\u001b[1;33m\u001b[0m\u001b[0m\n",
      "\u001b[1;31mTypeError\u001b[0m: list indices must be integers or slices, not tuple"
     ]
    }
   ],
   "source": [
    "# 실행문\n",
    "list_book = [('롤랑의 노래', '-', 19800, 6),\n",
    "             ('7년의 밤', '정유정', 14500, 3),\n",
    "             ('달 샤베트', '백희나', 12000, 11),\n",
    "             ('달러구트 꿈 백화점', '이미예', 13800, 14),\n",
    "             ('백광', '렌조 미키히코', 14500, 7),\n",
    "             ('지구 끝의 온실', '김초엽', 15000, 11),\n",
    "             ('이기적 유전자', '리처드 도킨스', 20000, 8),\n",
    "             ('파과', '구병모', 14000, 6),\n",
    "             ('긴긴밤', '루리', 11500, 4),\n",
    "             ('방구석 미술관', '조원재', 16800, 9)]\n",
    "\n",
    "manage_books = manageBooks(list_book)\n",
    "print(manage_books.countBook()) # 79\n",
    "print(manage_books.costBook()) # 1195200\n",
    "print(manage_books.search('cost > 16000'))\n",
    "# ['롤랑의 노래', '이기적 유전자', '방구석 미술관']\n",
    "print(manage_books.search(\"author == '김초엽'\")) # ['지구 끝의 온실']"
   ]
  },
  {
   "cell_type": "markdown",
   "id": "1a1260d7",
   "metadata": {},
   "source": [
    "### (4)\n",
    "숫자 단위를 변형하는 클래스 구현하기\n",
    "\n",
    "선언 시 클래스가 가질 값과 단위(m, km)를 설정하며(각 변수명은 value. unit 사용),   \n",
    "직접 값에 접근해 출력하는 것이 불가능하게 함(print(클래스.value) 사용 불가)   \n",
    "아래처럼 함수를 선언함\n",
    "\n",
    "1) m를 km로 변환하는 함수, 변환된 값을 클래스내 저장   \n",
    "예시)   \n",
    "24000, 'm' -> 24, 'km'   \n",
    "'m'가 아닌 경우 변화 없음   \n",
    "2) km를 m로 변환하는 함수, 변환된 값을 클래스내 저장   \n",
    "예시)   \n",
    "2, 'km' -> 2000, 'm'   \n",
    "'km'가 아닌 경우 변화 없음   \n",
    "3) 클래스 내 저장된 값을 단위를 더하여 str 형태로 출력하는 함수\n",
    "예시)   \n",
    "24000, 'm' -> '24,000m'   \n",
    "단위가 ' '인 경우 ' ' 반환   \n",
    "4) setter 데코레이터를 사용하여, 클래스 내 저장된 값이나 단위를 바꿀 때 다음을 적용함   \n",
    "* 값을 바꿀 때 음수를 넣을 경우 0으로 변환하여 저장   \n",
    "* 'm', 'km' 이외의 단위를 넣는 경우 빈문자 ' '로 변환하여 저장   \n",
    "예시)   \n",
    " -5000 -> 0    \n",
    " 'cm' -> ' '\n",
    "\n",
    "\n",
    "* 모든 값은 소수점 아래 4자리에서 반올림하여 사용"
   ]
  },
  {
   "cell_type": "code",
   "execution_count": null,
   "id": "b11a9a0d",
   "metadata": {},
   "outputs": [],
   "source": [
    "class C:\n",
    "    def_init__(self):\n",
    "        self.__a = 100\n",
    "        self.b = 10\n",
    "    \n",
    "aa = C()\n",
    "print(aa.__a)"
   ]
  },
  {
   "cell_type": "code",
   "execution_count": 184,
   "id": "1297badf",
   "metadata": {},
   "outputs": [
    {
     "ename": "SyntaxError",
     "evalue": "invalid syntax (168395409.py, line 11)",
     "output_type": "error",
     "traceback": [
      "\u001b[1;36m  File \u001b[1;32m\"C:\\Users\\MINJU\\AppData\\Local\\Temp\\ipykernel_7656\\168395409.py\"\u001b[1;36m, line \u001b[1;32m11\u001b[0m\n\u001b[1;33m    if else self.__unit == 'km':\u001b[0m\n\u001b[1;37m          ^\u001b[0m\n\u001b[1;31mSyntaxError\u001b[0m\u001b[1;31m:\u001b[0m invalid syntax\n"
     ]
    }
   ],
   "source": [
    "class Converter:\n",
    "    def __init__(self, value, unit):\n",
    "        self.__value = value\n",
    "        self.__unit = unit\n",
    "        \n",
    "    # decorator를 사용하여 4) 구현\n",
    "        \n",
    "    def cToM(self):\n",
    "        if self.__unit == 'm':\n",
    "            self.__value = format(self.value, ',')\n",
    "        if else self.__unit == 'km':\n",
    "            self.__value = self.__value / 100\n",
    "            self.__unit = 'km'\n",
    "    \n",
    "    def cToKm(self):\n",
    "        if self.__unit == 'km':\n",
    "            self.__value = format(value, ',')\n",
    "        else:\n",
    "            self.__value = self.__value * 100\n",
    "            self.__unit = 'm'\n",
    "    \n",
    "    def printValue(self):\n",
    "        if self.__unit != 'm' and self.__unit != 'km':\n",
    "            self.__unit = \"''\"\n",
    "        if self.__value < 0 :\n",
    "            self.__value = 0\n",
    "        return str(self.__value) + self.__unit # type str"
   ]
  },
  {
   "cell_type": "code",
   "execution_count": 185,
   "id": "d7aaa94b",
   "metadata": {},
   "outputs": [
    {
     "name": "stdout",
     "output_type": "stream",
     "text": [
      "1000m\n",
      "100000m\n",
      "100000m\n",
      "100000m\n",
      "100000m\n"
     ]
    }
   ],
   "source": [
    "# 실행문\n",
    "metric = Converter(1000, 'm')\n",
    "print(metric.printValue()) # 1,000 m\n",
    "\n",
    "metric.cToKm()\n",
    "print(metric.printValue()) # 1.0 km\n",
    "\n",
    "metric.value = 300\n",
    "metric.unit = 'm'\n",
    "print(metric.printValue()) # 300 m\n",
    "\n",
    "metric.value = -50\n",
    "print(metric.printValue()) # 0 m\n",
    "\n",
    "metric.unit = 'cm'\n",
    "print(metric.printValue()) # ''"
   ]
  },
  {
   "cell_type": "markdown",
   "id": "de37feaa",
   "metadata": {},
   "source": [
    "### (5)\n",
    "(4)에서 구현한 클래스를 상속하기\n",
    "\n",
    "단위 mile를 추가 적용.   \n",
    "(4)에서 선언한 함수가 변형되지 않도록 상속하여 사용   \n",
    "\n",
    "(4)의 1), 2) 함수가 mile에 대해서도 제 기능을 하도록   \n",
    "아래와 같이 변형함\n",
    "\n",
    "1) m, mile을 km로 변환하는 함수, 변환된 값을 클래스내 저장   \n",
    "예시)   \n",
    "24000, 'm' -> 24, 'km'   \n",
    "'m', 'mile'이 아닌 경우 변화 없음   \n",
    "2) km, mile를 m로 변환하는 함수, 변환된 값을 클래스내 저장   \n",
    "예시)   \n",
    "2, 'km' -> 2000, 'm'   \n",
    "'km', 'mile'이 아닌 경우 변화 없음   \n",
    "\n",
    "\n",
    "아래 함수를 추가로 구현함   \n",
    "5) m, km를 mile로 변환하는 함수. 변환된 값을 클래스내 저장   \n",
    "예시)   \n",
    "2, 'km' -> 1.243, 'mile'   \n",
    "'m', 'km'가 아닌 경우 변화 없음   \n",
    "\n",
    "* 1 mile = 1.609 km 로 계산(소수점 아래 4자리에서 반올림하여 사용)\n",
    "* 4)의 setter 가능은 제거한 Converter 클래스 사용"
   ]
  },
  {
   "cell_type": "code",
   "execution_count": null,
   "id": "86424733",
   "metadata": {},
   "outputs": [],
   "source": [
    "class Converter: # (4)에서 decorator 구현 부분을 제외하고 사용\n",
    "    def __init__(self, value, unit):\n",
    "        self.value = value\n",
    "        self.unit = unit\n",
    "        \n",
    "    def cToM( ... ):\n",
    "        ... \n",
    "    \n",
    "    def cToKm( ... ):\n",
    "        ...\n",
    "    \n",
    "    def printValue( ... ):\n",
    "        ...\n",
    "        return ... # type str"
   ]
  },
  {
   "cell_type": "code",
   "execution_count": null,
   "id": "9b7c4637",
   "metadata": {},
   "outputs": [],
   "source": [
    "class Converter_2(Converter):\n",
    "    # 문제 조건을 만족하도록 함수 작성"
   ]
  },
  {
   "cell_type": "code",
   "execution_count": null,
   "id": "c532b045",
   "metadata": {},
   "outputs": [],
   "source": [
    "# 실행문\n",
    "metric = Converter_2(1000, 'm')\n",
    "print(metric.printValue()) # 1,000 m\n",
    "\n",
    "metric.cToMile()\n",
    "print(metric.printValue()) # 0.622 mile\n",
    "\n",
    "metric.value = 300\n",
    "metric.cToM()\n",
    "print(metric.printValue()) # 482,700.0 m\n",
    "\n",
    "metric.cToKm()\n",
    "print(metric.printValue()) # 482.7 km"
   ]
  },
  {
   "cell_type": "code",
   "execution_count": null,
   "id": "7404f936",
   "metadata": {},
   "outputs": [],
   "source": [
    "#4번 구현을 못해서 5번도 못풀었습니다.."
   ]
  }
 ],
 "metadata": {
  "kernelspec": {
   "display_name": "env_ai",
   "language": "python",
   "name": "env_ai"
  },
  "language_info": {
   "codemirror_mode": {
    "name": "ipython",
    "version": 3
   },
   "file_extension": ".py",
   "mimetype": "text/x-python",
   "name": "python",
   "nbconvert_exporter": "python",
   "pygments_lexer": "ipython3",
   "version": "3.7.13"
  }
 },
 "nbformat": 4,
 "nbformat_minor": 5
}
