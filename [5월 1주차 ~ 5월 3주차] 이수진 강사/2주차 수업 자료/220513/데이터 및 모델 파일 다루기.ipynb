{
 "cells": [
  {
   "cell_type": "code",
   "execution_count": 3,
   "id": "dfc265d3",
   "metadata": {},
   "outputs": [],
   "source": [
    "import pandas as pd"
   ]
  },
  {
   "cell_type": "code",
   "execution_count": 4,
   "id": "78d79cda",
   "metadata": {},
   "outputs": [],
   "source": [
    "df_train = pd.read_csv('purchase_train.csv')\n",
    "df_test = pd.read_csv('purchase_test.csv')"
   ]
  },
  {
   "cell_type": "code",
   "execution_count": 5,
   "id": "56cb1ba2",
   "metadata": {},
   "outputs": [
    {
     "data": {
      "text/html": [
       "<div>\n",
       "<style scoped>\n",
       "    .dataframe tbody tr th:only-of-type {\n",
       "        vertical-align: middle;\n",
       "    }\n",
       "\n",
       "    .dataframe tbody tr th {\n",
       "        vertical-align: top;\n",
       "    }\n",
       "\n",
       "    .dataframe thead th {\n",
       "        text-align: right;\n",
       "    }\n",
       "</style>\n",
       "<table border=\"1\" class=\"dataframe\">\n",
       "  <thead>\n",
       "    <tr style=\"text-align: right;\">\n",
       "      <th></th>\n",
       "      <th>Unnamed: 0</th>\n",
       "      <th>User ID</th>\n",
       "      <th>Gender</th>\n",
       "      <th>Age</th>\n",
       "      <th>EstimatedSalary</th>\n",
       "      <th>Purchased</th>\n",
       "    </tr>\n",
       "  </thead>\n",
       "  <tbody>\n",
       "    <tr>\n",
       "      <th>0</th>\n",
       "      <td>0</td>\n",
       "      <td>15766289</td>\n",
       "      <td>Male</td>\n",
       "      <td>27</td>\n",
       "      <td>88000</td>\n",
       "      <td>0</td>\n",
       "    </tr>\n",
       "    <tr>\n",
       "      <th>1</th>\n",
       "      <td>1</td>\n",
       "      <td>15674331</td>\n",
       "      <td>Male</td>\n",
       "      <td>41</td>\n",
       "      <td>52000</td>\n",
       "      <td>0</td>\n",
       "    </tr>\n",
       "    <tr>\n",
       "      <th>2</th>\n",
       "      <td>2</td>\n",
       "      <td>15598044</td>\n",
       "      <td>Female</td>\n",
       "      <td>27</td>\n",
       "      <td>84000</td>\n",
       "      <td>0</td>\n",
       "    </tr>\n",
       "    <tr>\n",
       "      <th>3</th>\n",
       "      <td>3</td>\n",
       "      <td>15810944</td>\n",
       "      <td>Male</td>\n",
       "      <td>35</td>\n",
       "      <td>20000</td>\n",
       "      <td>0</td>\n",
       "    </tr>\n",
       "    <tr>\n",
       "      <th>4</th>\n",
       "      <td>4</td>\n",
       "      <td>15705298</td>\n",
       "      <td>Female</td>\n",
       "      <td>43</td>\n",
       "      <td>112000</td>\n",
       "      <td>1</td>\n",
       "    </tr>\n",
       "  </tbody>\n",
       "</table>\n",
       "</div>"
      ],
      "text/plain": [
       "   Unnamed: 0   User ID  Gender  Age  EstimatedSalary  Purchased\n",
       "0           0  15766289    Male   27            88000          0\n",
       "1           1  15674331    Male   41            52000          0\n",
       "2           2  15598044  Female   27            84000          0\n",
       "3           3  15810944    Male   35            20000          0\n",
       "4           4  15705298  Female   43           112000          1"
      ]
     },
     "execution_count": 5,
     "metadata": {},
     "output_type": "execute_result"
    }
   ],
   "source": [
    "df_train.head()"
   ]
  },
  {
   "cell_type": "code",
   "execution_count": 6,
   "id": "439bf7c2",
   "metadata": {},
   "outputs": [
    {
     "data": {
      "text/html": [
       "<div>\n",
       "<style scoped>\n",
       "    .dataframe tbody tr th:only-of-type {\n",
       "        vertical-align: middle;\n",
       "    }\n",
       "\n",
       "    .dataframe tbody tr th {\n",
       "        vertical-align: top;\n",
       "    }\n",
       "\n",
       "    .dataframe thead th {\n",
       "        text-align: right;\n",
       "    }\n",
       "</style>\n",
       "<table border=\"1\" class=\"dataframe\">\n",
       "  <thead>\n",
       "    <tr style=\"text-align: right;\">\n",
       "      <th></th>\n",
       "      <th>Unnamed: 0</th>\n",
       "      <th>User ID</th>\n",
       "      <th>Gender</th>\n",
       "      <th>Age</th>\n",
       "      <th>EstimatedSalary</th>\n",
       "    </tr>\n",
       "  </thead>\n",
       "  <tbody>\n",
       "    <tr>\n",
       "      <th>0</th>\n",
       "      <td>0</td>\n",
       "      <td>15725660</td>\n",
       "      <td>Male</td>\n",
       "      <td>30</td>\n",
       "      <td>87000</td>\n",
       "    </tr>\n",
       "    <tr>\n",
       "      <th>1</th>\n",
       "      <td>1</td>\n",
       "      <td>15652400</td>\n",
       "      <td>Female</td>\n",
       "      <td>38</td>\n",
       "      <td>50000</td>\n",
       "    </tr>\n",
       "    <tr>\n",
       "      <th>2</th>\n",
       "      <td>2</td>\n",
       "      <td>15776844</td>\n",
       "      <td>Male</td>\n",
       "      <td>35</td>\n",
       "      <td>75000</td>\n",
       "    </tr>\n",
       "    <tr>\n",
       "      <th>3</th>\n",
       "      <td>3</td>\n",
       "      <td>15738448</td>\n",
       "      <td>Female</td>\n",
       "      <td>30</td>\n",
       "      <td>79000</td>\n",
       "    </tr>\n",
       "    <tr>\n",
       "      <th>4</th>\n",
       "      <td>4</td>\n",
       "      <td>15638003</td>\n",
       "      <td>Female</td>\n",
       "      <td>35</td>\n",
       "      <td>50000</td>\n",
       "    </tr>\n",
       "  </tbody>\n",
       "</table>\n",
       "</div>"
      ],
      "text/plain": [
       "   Unnamed: 0   User ID  Gender  Age  EstimatedSalary\n",
       "0           0  15725660    Male   30            87000\n",
       "1           1  15652400  Female   38            50000\n",
       "2           2  15776844    Male   35            75000\n",
       "3           3  15738448  Female   30            79000\n",
       "4           4  15638003  Female   35            50000"
      ]
     },
     "execution_count": 6,
     "metadata": {},
     "output_type": "execute_result"
    }
   ],
   "source": [
    "df_test.head()"
   ]
  },
  {
   "cell_type": "code",
   "execution_count": null,
   "id": "ac058b7c",
   "metadata": {},
   "outputs": [],
   "source": []
  },
  {
   "cell_type": "code",
   "execution_count": 8,
   "id": "e537eef9",
   "metadata": {},
   "outputs": [],
   "source": [
    "x_train, y_train = df_train[['Age', 'EstimatedSalary']], df_train['Purchased']"
   ]
  },
  {
   "cell_type": "code",
   "execution_count": 9,
   "id": "0f655c21",
   "metadata": {},
   "outputs": [],
   "source": [
    "# 데이터 전처리\n",
    "from sklearn.preprocessing import StandardScaler\n",
    "\n",
    "sc = StandardScaler() # (X - m) / std\n",
    "x_train_sc = sc.fit_transform(x_train)"
   ]
  },
  {
   "cell_type": "code",
   "execution_count": 10,
   "id": "a0366e2e",
   "metadata": {},
   "outputs": [],
   "source": [
    "# 모델 학습\n",
    "from sklearn.linear_model import LogisticRegression\n",
    "logit_reg = LogisticRegression().fit(x_train_sc, y_train)"
   ]
  },
  {
   "cell_type": "code",
   "execution_count": 11,
   "id": "70f74f0f",
   "metadata": {},
   "outputs": [],
   "source": [
    "### 학습한 모델을 테스트 데이터셋에 적용\n",
    "# (1) 테스트 데이터셋에, 트레인 데이터셋과 동일하게 전처리 등 적용\n",
    "x_test = df_test[['Age', 'EstimatedSalary']]\n",
    "x_test_sc = sc.transform(x_test)\n",
    "\n",
    "# (2) 모델 수행 결과 기록\n",
    "y_pred = logit_reg.predict(x_test_sc)\n",
    "\n",
    "# (3) 결과를 df_test에 추가\n",
    "df_test['Purchased'] = y_pred"
   ]
  },
  {
   "cell_type": "code",
   "execution_count": 12,
   "id": "02db208c",
   "metadata": {},
   "outputs": [
    {
     "data": {
      "text/html": [
       "<div>\n",
       "<style scoped>\n",
       "    .dataframe tbody tr th:only-of-type {\n",
       "        vertical-align: middle;\n",
       "    }\n",
       "\n",
       "    .dataframe tbody tr th {\n",
       "        vertical-align: top;\n",
       "    }\n",
       "\n",
       "    .dataframe thead th {\n",
       "        text-align: right;\n",
       "    }\n",
       "</style>\n",
       "<table border=\"1\" class=\"dataframe\">\n",
       "  <thead>\n",
       "    <tr style=\"text-align: right;\">\n",
       "      <th></th>\n",
       "      <th>Unnamed: 0</th>\n",
       "      <th>User ID</th>\n",
       "      <th>Gender</th>\n",
       "      <th>Age</th>\n",
       "      <th>EstimatedSalary</th>\n",
       "      <th>Purchased</th>\n",
       "    </tr>\n",
       "  </thead>\n",
       "  <tbody>\n",
       "    <tr>\n",
       "      <th>0</th>\n",
       "      <td>0</td>\n",
       "      <td>15725660</td>\n",
       "      <td>Male</td>\n",
       "      <td>30</td>\n",
       "      <td>87000</td>\n",
       "      <td>0</td>\n",
       "    </tr>\n",
       "    <tr>\n",
       "      <th>1</th>\n",
       "      <td>1</td>\n",
       "      <td>15652400</td>\n",
       "      <td>Female</td>\n",
       "      <td>38</td>\n",
       "      <td>50000</td>\n",
       "      <td>0</td>\n",
       "    </tr>\n",
       "    <tr>\n",
       "      <th>2</th>\n",
       "      <td>2</td>\n",
       "      <td>15776844</td>\n",
       "      <td>Male</td>\n",
       "      <td>35</td>\n",
       "      <td>75000</td>\n",
       "      <td>0</td>\n",
       "    </tr>\n",
       "    <tr>\n",
       "      <th>3</th>\n",
       "      <td>3</td>\n",
       "      <td>15738448</td>\n",
       "      <td>Female</td>\n",
       "      <td>30</td>\n",
       "      <td>79000</td>\n",
       "      <td>0</td>\n",
       "    </tr>\n",
       "    <tr>\n",
       "      <th>4</th>\n",
       "      <td>4</td>\n",
       "      <td>15638003</td>\n",
       "      <td>Female</td>\n",
       "      <td>35</td>\n",
       "      <td>50000</td>\n",
       "      <td>0</td>\n",
       "    </tr>\n",
       "  </tbody>\n",
       "</table>\n",
       "</div>"
      ],
      "text/plain": [
       "   Unnamed: 0   User ID  Gender  Age  EstimatedSalary  Purchased\n",
       "0           0  15725660    Male   30            87000          0\n",
       "1           1  15652400  Female   38            50000          0\n",
       "2           2  15776844    Male   35            75000          0\n",
       "3           3  15738448  Female   30            79000          0\n",
       "4           4  15638003  Female   35            50000          0"
      ]
     },
     "execution_count": 12,
     "metadata": {},
     "output_type": "execute_result"
    }
   ],
   "source": [
    "df_test.head()"
   ]
  },
  {
   "cell_type": "code",
   "execution_count": 13,
   "id": "8cc8825f",
   "metadata": {},
   "outputs": [],
   "source": [
    "# (4) 결과를 파일로 저장\n",
    "df_test.to_csv('submit.csv') # submit.csv 이름으로 df_test 저장"
   ]
  },
  {
   "cell_type": "code",
   "execution_count": null,
   "id": "0cdec3a5",
   "metadata": {},
   "outputs": [],
   "source": []
  },
  {
   "cell_type": "code",
   "execution_count": 14,
   "id": "2b0e4415",
   "metadata": {},
   "outputs": [
    {
     "data": {
      "text/plain": [
       "['purchase_log_model.pkl']"
      ]
     },
     "execution_count": 14,
     "metadata": {},
     "output_type": "execute_result"
    }
   ],
   "source": [
    "# 스케일러 및 모델 저장\n",
    "import joblib\n",
    "\n",
    "joblib.dump(sc, 'purchase_scaler.pkl')\n",
    "joblib.dump(logit_reg, 'purchase_log_model.pkl')"
   ]
  },
  {
   "cell_type": "code",
   "execution_count": null,
   "id": "564293a3",
   "metadata": {},
   "outputs": [],
   "source": []
  },
  {
   "cell_type": "code",
   "execution_count": null,
   "id": "72460273",
   "metadata": {},
   "outputs": [],
   "source": [
    "# 모델 load 시 같은 결과가 나오는지 확인\n",
    "scaler = joblib.load('purchase_scaler.pkl')\n",
    "model = joblib.load('purchase_log_model.pkl')\n",
    "\n",
    "y_pred_re = model.predict(x_test_sc)\n",
    "print(y_pred == )"
   ]
  }
 ],
 "metadata": {
  "kernelspec": {
   "display_name": "env_temp",
   "language": "python",
   "name": "env_temp"
  },
  "language_info": {
   "codemirror_mode": {
    "name": "ipython",
    "version": 3
   },
   "file_extension": ".py",
   "mimetype": "text/x-python",
   "name": "python",
   "nbconvert_exporter": "python",
   "pygments_lexer": "ipython3",
   "version": "3.8.10"
  }
 },
 "nbformat": 4,
 "nbformat_minor": 5
}
