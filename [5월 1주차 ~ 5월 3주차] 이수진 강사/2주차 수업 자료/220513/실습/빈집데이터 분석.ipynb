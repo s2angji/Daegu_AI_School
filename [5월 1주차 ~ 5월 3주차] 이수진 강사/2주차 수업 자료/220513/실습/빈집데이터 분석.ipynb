{
 "cells": [
  {
   "cell_type": "code",
   "execution_count": null,
   "id": "0ecc78d8",
   "metadata": {},
   "outputs": [],
   "source": [
    "import pandas as pd"
   ]
  },
  {
   "cell_type": "code",
   "execution_count": null,
   "id": "13de995d",
   "metadata": {},
   "outputs": [],
   "source": [
    "# 데이터 읽기\n",
    "house = pd.read_csv('empty_train.csv')\n",
    "house_answer = pd.read_csv('empty_test.csv')"
   ]
  },
  {
   "cell_type": "code",
   "execution_count": null,
   "id": "1baa35b0",
   "metadata": {},
   "outputs": [],
   "source": []
  },
  {
   "cell_type": "code",
   "execution_count": null,
   "id": "c878d5ac",
   "metadata": {},
   "outputs": [],
   "source": [
    "house_answer['빈집지수'] = y_pred\n",
    "house_answer.to_csv('./answer_이름.csv', index=False, encoding='utf-8-sig') # 한글 저장"
   ]
  }
 ],
 "metadata": {
  "kernelspec": {
   "display_name": "env_temp",
   "language": "python",
   "name": "env_temp"
  },
  "language_info": {
   "codemirror_mode": {
    "name": "ipython",
    "version": 3
   },
   "file_extension": ".py",
   "mimetype": "text/x-python",
   "name": "python",
   "nbconvert_exporter": "python",
   "pygments_lexer": "ipython3",
   "version": "3.8.10"
  }
 },
 "nbformat": 4,
 "nbformat_minor": 5
}
