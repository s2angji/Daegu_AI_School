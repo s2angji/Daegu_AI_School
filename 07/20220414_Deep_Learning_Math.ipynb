{
  "nbformat": 4,
  "nbformat_minor": 0,
  "metadata": {
    "colab": {
      "name": "20220414 Deep Learning Math.ipynb",
      "provenance": [],
      "collapsed_sections": []
    },
    "kernelspec": {
      "name": "python3",
      "display_name": "Python 3"
    },
    "language_info": {
      "name": "python"
    }
  },
  "cells": [
    {
      "cell_type": "code",
      "execution_count": 1,
      "metadata": {
        "id": "ccbBgzfNvw_z"
      },
      "outputs": [],
      "source": [
        "import math\n",
        "import numpy as np\n",
        "import matplotlib.pyplot as plt\n",
        "\n",
        "plt.style.use('seaborn-whitegrid')"
      ]
    },
    {
      "cell_type": "code",
      "source": [
        "def linear_function(x):\n",
        "  a = 0.5\n",
        "  b = 2\n",
        "  return a * x + b"
      ],
      "metadata": {
        "id": "vDt7Fg-AQk3M"
      },
      "execution_count": 2,
      "outputs": []
    },
    {
      "cell_type": "code",
      "source": [
        "print(linear_function(5))"
      ],
      "metadata": {
        "colab": {
          "base_uri": "https://localhost:8080/"
        },
        "id": "0h9YGHizRSs7",
        "outputId": "fe7aaa50-a6b0-4d42-ad55-bb042f34343c"
      },
      "execution_count": 4,
      "outputs": [
        {
          "output_type": "stream",
          "name": "stdout",
          "text": [
            "4.5\n"
          ]
        }
      ]
    },
    {
      "cell_type": "code",
      "source": [
        "x = np.arange(-5, 5, 0.1)\n",
        "y = linear_function(x)\n",
        "\n",
        "plt.plot(x, y)\n",
        "plt.xlabel('x')\n",
        "plt.ylabel('y')\n",
        "plt.title('Linear Function')"
      ],
      "metadata": {
        "colab": {
          "base_uri": "https://localhost:8080/",
          "height": 309
        },
        "id": "eN0esHdERdYb",
        "outputId": "68b546c5-5e0b-432a-fe52-82700665fcda"
      },
      "execution_count": 9,
      "outputs": [
        {
          "output_type": "execute_result",
          "data": {
            "text/plain": [
              "Text(0.5, 1.0, 'Linear Function')"
            ]
          },
          "metadata": {},
          "execution_count": 9
        },
        {
          "output_type": "display_data",
          "data": {
            "text/plain": [
              "<Figure size 432x288 with 1 Axes>"
            ],
            "image/png": "[encoded data removed]"
          },
          "metadata": {
            "needs_background": "light"
          }
        }
      ]
    },
    {
      "cell_type": "code",
      "source": [
        "# 이차함수\n",
        "def quadratic_function(x):\n",
        "  a = 1\n",
        "  b = -2\n",
        "  c = -2\n",
        "  return a * x ** 2 + b * x + c"
      ],
      "metadata": {
        "id": "Ybn2Fzv4SGzJ"
      },
      "execution_count": 10,
      "outputs": []
    },
    {
      "cell_type": "code",
      "source": [
        "y = quadratic_function(x)\n",
        "\n",
        "plt.plot(x, y)\n",
        "plt.xlabel('x')\n",
        "plt.ylabel('y')\n",
        "plt.title('Quadratic Function')"
      ],
      "metadata": {
        "colab": {
          "base_uri": "https://localhost:8080/",
          "height": 309
        },
        "id": "ymxnpPukT7l_",
        "outputId": "82ef3f32-045d-45fb-e7ae-49814dadcf4c"
      },
      "execution_count": 12,
      "outputs": [
        {
          "output_type": "execute_result",
          "data": {
            "text/plain": [
              "Text(0.5, 1.0, 'Quadratic Function')"
            ]
          },
          "metadata": {},
          "execution_count": 12
        },
        {
          "output_type": "display_data",
          "data": {
            "text/plain": [
              "<Figure size 432x288 with 1 Axes>"
            ],
            "image/png": "[encoded data removed]"
          },
          "metadata": {
            "needs_background": "light"
          }
        }
      ]
    },
    {
      "cell_type": "code",
      "source": [
        "def cubic_function(x):\n",
        "  a = 4\n",
        "  b = 0\n",
        "  c = -1\n",
        "  d = -8\n",
        "  return a * x ** 3 + b * x ** 2 + c * x + d"
      ],
      "metadata": {
        "id": "Yq7VJYofUAkY"
      },
      "execution_count": 13,
      "outputs": []
    },
    {
      "cell_type": "code",
      "source": [
        "y = cubic_function(x)\n",
        "\n",
        "plt.plot(x, y)\n",
        "plt.xlabel('x')\n",
        "plt.ylabel('y')\n",
        "plt.title('cubic_function')"
      ],
      "metadata": {
        "colab": {
          "base_uri": "https://localhost:8080/",
          "height": 309
        },
        "id": "3UeBIU9DUxvQ",
        "outputId": "a6330ac5-06fe-49eb-8375-642bae69be2d"
      },
      "execution_count": 15,
      "outputs": [
        {
          "output_type": "execute_result",
          "data": {
            "text/plain": [
              "Text(0.5, 1.0, 'cubic_function')"
            ]
          },
          "metadata": {},
          "execution_count": 15
        },
        {
          "output_type": "display_data",
          "data": {
            "text/plain": [
              "<Figure size 432x288 with 1 Axes>"
            ],
            "image/png": "[encoded data removed]"
          },
          "metadata": {
            "needs_background": "light"
          }
        }
      ]
    },
    {
      "cell_type": "code",
      "source": [
        "# 0차원 텐서 스칼라\n",
        "x = np.array(3)\n",
        "print(x)\n",
        "print(x.shape)\n",
        "print(np.ndim(x))"
      ],
      "metadata": {
        "colab": {
          "base_uri": "https://localhost:8080/"
        },
        "id": "2P5xmXu_U5q3",
        "outputId": "61fab3f2-95f5-4d7c-acdd-451a4a217cfe"
      },
      "execution_count": 18,
      "outputs": [
        {
          "output_type": "stream",
          "name": "stdout",
          "text": [
            "3\n",
            "()\n",
            "0\n"
          ]
        }
      ]
    },
    {
      "cell_type": "code",
      "source": [
        "a = np.array([1, 2, 3, 4])\n",
        "b = np.array([5, 6, 7, 8])\n",
        "\n",
        "c = a + b\n",
        "print(c)\n",
        "print(c.shape)\n",
        "print(np.ndim(c))"
      ],
      "metadata": {
        "colab": {
          "base_uri": "https://localhost:8080/"
        },
        "id": "qYMN83SfdKB6",
        "outputId": "2510f406-7810-4dd2-d033-c5b9abbc8114"
      },
      "execution_count": 20,
      "outputs": [
        {
          "output_type": "stream",
          "name": "stdout",
          "text": [
            "[ 6  8 10 12]\n",
            "(4,)\n",
            "1\n"
          ]
        }
      ]
    },
    {
      "cell_type": "code",
      "source": [
        "m = np.array(10)\n",
        "d = a * m\n",
        "print(d)"
      ],
      "metadata": {
        "colab": {
          "base_uri": "https://localhost:8080/"
        },
        "id": "o2fhXqdReTAg",
        "outputId": "4f3f29d1-a807-4b0a-f204-1ce32f63dbee"
      },
      "execution_count": 21,
      "outputs": [
        {
          "output_type": "stream",
          "name": "stdout",
          "text": [
            "[10 20 30 40]\n"
          ]
        }
      ]
    },
    {
      "cell_type": "code",
      "source": [
        "a = np.array([[1,2],[3,4]])\n",
        "b = np.array([[10,10],[10,10]])\n",
        "\n",
        "\n",
        "print(a)\n",
        "print(a.shape)\n",
        "print(a.ndim)\n",
        "\n",
        "print(a * b)"
      ],
      "metadata": {
        "colab": {
          "base_uri": "https://localhost:8080/"
        },
        "id": "yuytcv-ke2if",
        "outputId": "e06ab898-cd79-4eeb-edc5-158ed9812737"
      },
      "execution_count": 23,
      "outputs": [
        {
          "output_type": "stream",
          "name": "stdout",
          "text": [
            "[[1 2]\n",
            " [3 4]]\n",
            "(2, 2)\n",
            "2\n",
            "[[10 20]\n",
            " [30 40]]\n"
          ]
        }
      ]
    },
    {
      "cell_type": "code",
      "source": [
        "a = np.array([[1, 2, 3], [4, 5, 6]])\n",
        "\n",
        "# 전치행렬\n",
        "a_ = a.T\n",
        "\n",
        "print(a_)"
      ],
      "metadata": {
        "colab": {
          "base_uri": "https://localhost:8080/"
        },
        "id": "t4gd7EZagpNQ",
        "outputId": "2075f3a5-0a6d-45f4-cae8-fe195abb9c79"
      },
      "execution_count": 26,
      "outputs": [
        {
          "output_type": "stream",
          "name": "stdout",
          "text": [
            "[[1 4]\n",
            " [2 5]\n",
            " [3 6]]\n"
          ]
        }
      ]
    },
    {
      "cell_type": "code",
      "source": [
        "X = np.array([[[5,3,2,1],\n",
        "               [5,5,3,1],\n",
        "               [6,1,2,3]],\n",
        "              [[1,1,1,1],\n",
        "               [3,4,7,5],\n",
        "               [1,8,3,4]],\n",
        "              [[10,9,3,9],\n",
        "               [5,4,3,2],\n",
        "               [7,6,3,4]]\n",
        "              ])\n",
        "\n",
        "print('X\\n', X, end='\\n\\n')\n",
        "print('X.shape:', X.shape)\n",
        "print('X.ndim:', X.ndim)"
      ],
      "metadata": {
        "colab": {
          "base_uri": "https://localhost:8080/"
        },
        "id": "0rEYvmgkhghP",
        "outputId": "b8516470-f84e-41f2-8f7b-b7abecc60351"
      },
      "execution_count": 27,
      "outputs": [
        {
          "output_type": "stream",
          "name": "stdout",
          "text": [
            "X\n",
            " [[[ 5  3  2  1]\n",
            "  [ 5  5  3  1]\n",
            "  [ 6  1  2  3]]\n",
            "\n",
            " [[ 1  1  1  1]\n",
            "  [ 3  4  7  5]\n",
            "  [ 1  8  3  4]]\n",
            "\n",
            " [[10  9  3  9]\n",
            "  [ 5  4  3  2]\n",
            "  [ 7  6  3  4]]]\n",
            "\n",
            "X.shape: (3, 3, 4)\n",
            "X.ndim: 3\n"
          ]
        }
      ]
    },
    {
      "cell_type": "code",
      "source": [
        "# MNIST 손글씨 이미지\n",
        "from keras.datasets import mnist"
      ],
      "metadata": {
        "id": "wGhSoPVFkfIm"
      },
      "execution_count": 28,
      "outputs": []
    },
    {
      "cell_type": "code",
      "source": [
        "# !pip install tensorflow\n",
        "# !pip install keras"
      ],
      "metadata": {
        "id": "samtYVPElAu3"
      },
      "execution_count": 29,
      "outputs": []
    },
    {
      "cell_type": "code",
      "source": [
        "(X_train, y_train), (X_test, y_test) = mnist.load_data()"
      ],
      "metadata": {
        "id": "QtqX3z2alF48"
      },
      "execution_count": 31,
      "outputs": []
    },
    {
      "cell_type": "code",
      "source": [
        "print(X_train.shape)\n",
        "print(X_train.ndim)"
      ],
      "metadata": {
        "colab": {
          "base_uri": "https://localhost:8080/"
        },
        "id": "eRNAF3vamFLH",
        "outputId": "7eb57fd0-02fe-4a9c-ffb5-cf4898adf521"
      },
      "execution_count": 33,
      "outputs": [
        {
          "output_type": "stream",
          "name": "stdout",
          "text": [
            "(60000, 28, 28)\n",
            "3\n"
          ]
        }
      ]
    },
    {
      "cell_type": "code",
      "source": [
        "print(X_train.dtype)"
      ],
      "metadata": {
        "colab": {
          "base_uri": "https://localhost:8080/"
        },
        "id": "ylCZ-sfImUd-",
        "outputId": "1a4fa250-b801-433a-93dd-8abc63d0c431"
      },
      "execution_count": 35,
      "outputs": [
        {
          "output_type": "stream",
          "name": "stdout",
          "text": [
            "uint8\n"
          ]
        }
      ]
    },
    {
      "cell_type": "code",
      "source": [
        "temp_image = X_train[3]"
      ],
      "metadata": {
        "id": "lAIIomvknTL1"
      },
      "execution_count": 37,
      "outputs": []
    },
    {
      "cell_type": "code",
      "source": [
        "plt.imshow(temp_image, cmap='gray')"
      ],
      "metadata": {
        "colab": {
          "base_uri": "https://localhost:8080/",
          "height": 280
        },
        "id": "rSv04yuYs6ql",
        "outputId": "0278d239-2598-44e9-90ea-2c2a5f9636f6"
      },
      "execution_count": 39,
      "outputs": [
        {
          "output_type": "execute_result",
          "data": {
            "text/plain": [
              "<matplotlib.image.AxesImage at 0x7ff0c49f45d0>"
            ]
          },
          "metadata": {},
          "execution_count": 39
        },
        {
          "output_type": "display_data",
          "data": {
            "text/plain": [
              "<Figure size 432x288 with 1 Axes>"
            ],
            "image/png": "[encoded data removed]"
          },
          "metadata": {
            "needs_background": "light"
          }
        }
      ]
    },
    {
      "cell_type": "code",
      "source": [
        "import numpy as np\n",
        "import matplotlib.pyplot as plt\n",
        "\n",
        "plt.style.use('seaborn-whitegrid')"
      ],
      "metadata": {
        "id": "St3LErlXtnoL"
      },
      "execution_count": 40,
      "outputs": []
    },
    {
      "cell_type": "code",
      "source": [
        "def AND(x1, x2):\n",
        "  input = np.array([x1, x2])\n",
        "  weights = np.array([0.4, 0.4])\n",
        "  bias = -0.6\n",
        "\n",
        "  value = np.sum(input * weights) + bias\n",
        "\n",
        "  if value <= 0:\n",
        "    return 0\n",
        "  else:\n",
        "    return 1"
      ],
      "metadata": {
        "id": "QcAz-P6mx_U6"
      },
      "execution_count": 41,
      "outputs": []
    },
    {
      "cell_type": "code",
      "source": [
        "print(AND(0, 0))\n",
        "print(AND(0, 1))\n",
        "print(AND(1, 0))\n",
        "print(AND(1, 1))"
      ],
      "metadata": {
        "colab": {
          "base_uri": "https://localhost:8080/"
        },
        "id": "0sNfVMAwzXcq",
        "outputId": "171e4454-e89c-4068-8ca8-3e3aa106e61f"
      },
      "execution_count": 43,
      "outputs": [
        {
          "output_type": "stream",
          "name": "stdout",
          "text": [
            "0\n",
            "0\n",
            "0\n",
            "1\n"
          ]
        }
      ]
    },
    {
      "cell_type": "code",
      "source": [
        "x1 = np.arange(-2, 2, 0.01)\n",
        "x2 = np.arange(-2, 2, 0.01)\n",
        "bias = -0.6\n",
        "\n",
        "y = (-0.4 * x1 - bias) / 0.4\n",
        "\n",
        "plt.axvline(x = 0)\n",
        "plt.axhline(y = 0)\n",
        "plt.plot(x1, y, 'r--')\n",
        "plt.scatter(0,0,color='orange',marker='o',s=150)\n",
        "plt.scatter(0,1,color='orange',marker='o',s=150)\n",
        "plt.scatter(1,0,color='orange',marker='o',s=150)\n",
        "plt.scatter(1,1,color='black',marker='^',s=150)\n",
        "plt.xlim(-0.5,1.5)\n",
        "plt.ylim(-0.5,1.5)\n",
        "plt.grid()"
      ],
      "metadata": {
        "colab": {
          "base_uri": "https://localhost:8080/",
          "height": 266
        },
        "id": "Cblh_Ohyzq6a",
        "outputId": "852c6ea5-806b-4ae9-ba9f-0a144a8272ca"
      },
      "execution_count": 49,
      "outputs": [
        {
          "output_type": "display_data",
          "data": {
            "text/plain": [
              "<Figure size 432x288 with 1 Axes>"
            ],
            "image/png": "[encoded data removed]"
          },
          "metadata": {}
        }
      ]
    },
    {
      "cell_type": "code",
      "source": [
        "def OR(x1, x2):\n",
        "  input = np.array([x1, x2])\n",
        "  weights = np.array([0.4, 0.4])\n",
        "  bias = -0.3\n",
        "\n",
        "  value = np.sum(input * weights) + bias\n",
        "\n",
        "  if value <= 0:\n",
        "    return 0\n",
        "  else:\n",
        "    return 1"
      ],
      "metadata": {
        "id": "2x43NONm4Ylq"
      },
      "execution_count": 51,
      "outputs": []
    },
    {
      "cell_type": "code",
      "source": [
        "print(OR(0, 0))\n",
        "print(OR(0, 1))\n",
        "print(OR(1, 0))\n",
        "print(OR(1, 1))"
      ],
      "metadata": {
        "colab": {
          "base_uri": "https://localhost:8080/"
        },
        "id": "4v5dSIEw5Zsy",
        "outputId": "9ba12c5b-42a4-4312-ba21-e58831dfc0f1"
      },
      "execution_count": 52,
      "outputs": [
        {
          "output_type": "stream",
          "name": "stdout",
          "text": [
            "0\n",
            "1\n",
            "1\n",
            "1\n"
          ]
        }
      ]
    },
    {
      "cell_type": "code",
      "source": [
        "x1 = np.arange(-2, 2, 0.01)\n",
        "x2 = np.arange(-2, 2, 0.01)\n",
        "bias = -0.3\n",
        "\n",
        "y = (-0.4 * x1 - bias) / 0.4\n",
        "\n",
        "plt.axvline(x = 0)\n",
        "plt.axhline(y = 0)\n",
        "plt.plot(x1, y, 'r--')\n",
        "plt.scatter(0,0,color='black',marker='^',s=150)\n",
        "plt.scatter(0,1,color='orange',marker='o',s=150)\n",
        "plt.scatter(1,0,color='orange',marker='o',s=150)\n",
        "plt.scatter(1,1,color='orange',marker='o',s=150)\n",
        "plt.xlim(-0.5,1.5)\n",
        "plt.ylim(-0.5,1.5)\n",
        "plt.grid()"
      ],
      "metadata": {
        "colab": {
          "base_uri": "https://localhost:8080/",
          "height": 266
        },
        "id": "sBuaDHXE5dQB",
        "outputId": "b181a250-a2e0-4abd-e30a-f34b0a825e05"
      },
      "execution_count": 57,
      "outputs": [
        {
          "output_type": "display_data",
          "data": {
            "text/plain": [
              "<Figure size 432x288 with 1 Axes>"
            ],
            "image/png": "[encoded data removed]"
          },
          "metadata": {}
        }
      ]
    },
    {
      "cell_type": "code",
      "source": [
        "def NAND(x1, x2):\n",
        "  input = np.array([x1, x2])\n",
        "  weights = np.array([-0.6, -0.6])\n",
        "  bias = 0.7\n",
        "\n",
        "  value = np.sum(input * weights) + bias\n",
        "\n",
        "  if value <= 0:\n",
        "    return 0\n",
        "  else:\n",
        "    return 1"
      ],
      "metadata": {
        "id": "-CxzXuwZ6DMy"
      },
      "execution_count": 66,
      "outputs": []
    },
    {
      "cell_type": "code",
      "source": [
        "print(NAND(0, 0))\n",
        "print(NAND(0, 1))\n",
        "print(NAND(1, 0))\n",
        "print(NAND(1, 1))"
      ],
      "metadata": {
        "colab": {
          "base_uri": "https://localhost:8080/"
        },
        "id": "CX3sClz66uTJ",
        "outputId": "86309928-5e04-40cb-b6b6-463301e32dba"
      },
      "execution_count": 67,
      "outputs": [
        {
          "output_type": "stream",
          "name": "stdout",
          "text": [
            "1\n",
            "1\n",
            "1\n",
            "0\n"
          ]
        }
      ]
    },
    {
      "cell_type": "code",
      "source": [
        "x1 = np.arange(-2, 2, 0.01)\n",
        "x2 = np.arange(-2, 2, 0.01)\n",
        "bias = -0.7\n",
        "\n",
        "y = (-0.4 * x1 - bias) / 0.4\n",
        "\n",
        "plt.axvline(x = 0)\n",
        "plt.axhline(y = 0)\n",
        "plt.plot(x1, y, 'r--')\n",
        "plt.scatter(0,0,color='black',marker='^',s=150)\n",
        "plt.scatter(0,1,color='black',marker='^',s=150)\n",
        "plt.scatter(1,0,color='black',marker='^',s=150)\n",
        "plt.scatter(1,1,color='orange',marker='o',s=150)\n",
        "plt.xlim(-0.5,1.5)\n",
        "plt.ylim(-0.5,1.5)\n",
        "plt.grid()"
      ],
      "metadata": {
        "colab": {
          "base_uri": "https://localhost:8080/",
          "height": 266
        },
        "id": "0fbJjIcx6yiI",
        "outputId": "73781297-c2c9-442b-c189-dadcd430beac"
      },
      "execution_count": 63,
      "outputs": [
        {
          "output_type": "display_data",
          "data": {
            "text/plain": [
              "<Figure size 432x288 with 1 Axes>"
            ],
            "image/png": "[encoded data removed]"
          },
          "metadata": {}
        }
      ]
    },
    {
      "cell_type": "code",
      "source": [
        "def XOR(x1, x2):\n",
        "  s1 = NAND(x1, x2)\n",
        "  s2 = OR(x1, x2)\n",
        "  y = AND(s1, s2)\n",
        "\n",
        "  return y"
      ],
      "metadata": {
        "id": "Jy_SF4_m7AZ4"
      },
      "execution_count": 68,
      "outputs": []
    },
    {
      "cell_type": "code",
      "source": [
        "print(XOR(0, 0))\n",
        "print(XOR(0, 1))\n",
        "print(XOR(1, 0))\n",
        "print(XOR(1, 1))"
      ],
      "metadata": {
        "colab": {
          "base_uri": "https://localhost:8080/"
        },
        "id": "emJzbYBI83Z3",
        "outputId": "dc11a9c8-9619-442a-ad49-6bc7e224a063"
      },
      "execution_count": 69,
      "outputs": [
        {
          "output_type": "stream",
          "name": "stdout",
          "text": [
            "0\n",
            "1\n",
            "1\n",
            "0\n"
          ]
        }
      ]
    },
    {
      "cell_type": "code",
      "source": [
        "import keras\n",
        "keras.__version__"
      ],
      "metadata": {
        "colab": {
          "base_uri": "https://localhost:8080/",
          "height": 35
        },
        "id": "XCkTFL0L89j4",
        "outputId": "420e1746-f557-4820-c2e4-1a6b2608f022"
      },
      "execution_count": 70,
      "outputs": [
        {
          "output_type": "execute_result",
          "data": {
            "text/plain": [
              "'2.8.0'"
            ],
            "application/vnd.google.colaboratory.intrinsic+json": {
              "type": "string"
            }
          },
          "metadata": {},
          "execution_count": 70
        }
      ]
    },
    {
      "cell_type": "code",
      "source": [
        "# !pip install tensorflow\n",
        "# !pip install keras"
      ],
      "metadata": {
        "id": "iuTyQezz-GDZ"
      },
      "execution_count": 73,
      "outputs": []
    },
    {
      "cell_type": "code",
      "source": [
        "from keras.datasets import mnist\n",
        "(train_images, train_labels), (test_images, test_labels) = mnist.load_data()"
      ],
      "metadata": {
        "id": "so6pmUpw-dZn"
      },
      "execution_count": 72,
      "outputs": []
    },
    {
      "cell_type": "code",
      "source": [
        "train_images.shape"
      ],
      "metadata": {
        "colab": {
          "base_uri": "https://localhost:8080/"
        },
        "id": "zufm6Ry__a0I",
        "outputId": "ff68f12e-6e4a-4031-eec7-4ed738398cb9"
      },
      "execution_count": 74,
      "outputs": [
        {
          "output_type": "execute_result",
          "data": {
            "text/plain": [
              "(60000, 28, 28)"
            ]
          },
          "metadata": {},
          "execution_count": 74
        }
      ]
    },
    {
      "cell_type": "code",
      "source": [
        "train_labels.shape"
      ],
      "metadata": {
        "colab": {
          "base_uri": "https://localhost:8080/"
        },
        "id": "ckcu5fsi__rP",
        "outputId": "c95afb06-4db6-4c65-d0fb-0afcf61fc95c"
      },
      "execution_count": 75,
      "outputs": [
        {
          "output_type": "execute_result",
          "data": {
            "text/plain": [
              "(60000,)"
            ]
          },
          "metadata": {},
          "execution_count": 75
        }
      ]
    },
    {
      "cell_type": "code",
      "source": [
        "test_images.shape"
      ],
      "metadata": {
        "colab": {
          "base_uri": "https://localhost:8080/"
        },
        "id": "2gk6SZ-aADow",
        "outputId": "116b0305-cf42-4c5e-dbe5-2e48147fa5b1"
      },
      "execution_count": 76,
      "outputs": [
        {
          "output_type": "execute_result",
          "data": {
            "text/plain": [
              "(10000, 28, 28)"
            ]
          },
          "metadata": {},
          "execution_count": 76
        }
      ]
    },
    {
      "cell_type": "code",
      "source": [
        "digit = train_images[4]\n",
        "plt.imshow(digit, cmap='gray')"
      ],
      "metadata": {
        "colab": {
          "base_uri": "https://localhost:8080/",
          "height": 280
        },
        "id": "JRmCjg5sAFvv",
        "outputId": "3394a0ab-9999-41d1-ca75-e9eaea3ac704"
      },
      "execution_count": 78,
      "outputs": [
        {
          "output_type": "execute_result",
          "data": {
            "text/plain": [
              "<matplotlib.image.AxesImage at 0x7ff0c1869f50>"
            ]
          },
          "metadata": {},
          "execution_count": 78
        },
        {
          "output_type": "display_data",
          "data": {
            "text/plain": [
              "<Figure size 432x288 with 1 Axes>"
            ],
            "image/png": "[encoded data removed]"
          },
          "metadata": {}
        }
      ]
    },
    {
      "cell_type": "code",
      "source": [
        "print(train_labels[4])"
      ],
      "metadata": {
        "colab": {
          "base_uri": "https://localhost:8080/"
        },
        "id": "ENkPgx-CAZdg",
        "outputId": "0c58aa17-d803-43f2-8e53-855872a017e6"
      },
      "execution_count": 79,
      "outputs": [
        {
          "output_type": "stream",
          "name": "stdout",
          "text": [
            "9\n"
          ]
        }
      ]
    },
    {
      "cell_type": "code",
      "source": [
        "from keras import models\n",
        "from keras import layers\n",
        "\n",
        "network = models.Sequential()\n",
        "network.add(layers.Dense(512, activation='relu', input_shape=(28 * 28,)))\n",
        "network.add(layers.Dense(10, activation='softmax'))"
      ],
      "metadata": {
        "id": "9VhCjd2xB9A_"
      },
      "execution_count": 80,
      "outputs": []
    },
    {
      "cell_type": "code",
      "source": [
        ""
      ],
      "metadata": {
        "id": "MxcXcM7ODEFG"
      },
      "execution_count": null,
      "outputs": []
    }
  ]
}