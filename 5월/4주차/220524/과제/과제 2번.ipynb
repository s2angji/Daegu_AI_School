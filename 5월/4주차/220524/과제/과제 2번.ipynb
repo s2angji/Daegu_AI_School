{
 "cells": [
  {
   "cell_type": "code",
   "execution_count": 5,
   "id": "0d186b32",
   "metadata": {},
   "outputs": [],
   "source": [
    "from selenium import webdriver\n",
    "import time\n",
    "from selenium.webdriver.common.keys import Keys\n",
    "import pandas as pd\n",
    "import os\n",
    "\n",
    "from urllib.request import (urlopen, urlparse, urlretrieve)"
   ]
  },
  {
   "cell_type": "code",
   "execution_count": 2,
   "id": "5dc20008",
   "metadata": {},
   "outputs": [],
   "source": [
    "# 구글 이미지 URL\n",
    "chrome_path = \"./chromedriver.exe\"\n",
    "base_url = \"https://www.google.co.kr/imghp\""
   ]
  },
  {
   "cell_type": "code",
   "execution_count": 3,
   "id": "6956d42f",
   "metadata": {},
   "outputs": [],
   "source": [
    "# 구글 검색 옵션\n",
    "chrome_options = webdriver.ChromeOptions()\n",
    "chrome_options.add_argument(\"lang=ko_KR\")# 한국어\n",
    "chrome_options.add_argument(\"window-size=1920x1080\")"
   ]
  },
  {
   "cell_type": "code",
   "execution_count": 4,
   "id": "152669d5",
   "metadata": {},
   "outputs": [],
   "source": [
    "def selenium_scroll_option() :\n",
    "    SCROLL_PAUSE_SEC = 1\n",
    "\n",
    "    # 스크롤 높이 가져옴\n",
    "    last_height = driver.execute_script(\"return document.body.scrollHeight\")\n",
    "\n",
    "    while True :\n",
    "        # 끝까지 스크롤 다운\n",
    "        driver.execute_script(\"window.scrollTo(0, document.body.scrollHeight);\")\n",
    "        time.sleep(SCROLL_PAUSE_SEC)\n",
    "        # 스크롤 다운 후 스크롤 높이 다시 가져옴\n",
    "        new_height = driver.execute_script(\"return document.body.scrollHeight\")\n",
    "        if new_height == last_height :\n",
    "            break\n",
    "        last_height = new_height"
   ]
  },
  {
   "cell_type": "code",
   "execution_count": 5,
   "id": "ab83b690",
   "metadata": {},
   "outputs": [
    {
     "name": "stderr",
     "output_type": "stream",
     "text": [
      "C:\\Users\\Ji Sang-joon\\.conda\\envs\\env_ai\\lib\\site-packages\\ipykernel_launcher.py:3: DeprecationWarning: executable_path has been deprecated, please pass in a Service object\n",
      "  This is separate from the ipykernel package so we can avoid doing imports until\n",
      "C:\\Users\\Ji Sang-joon\\.conda\\envs\\env_ai\\lib\\site-packages\\ipykernel_launcher.py:5: DeprecationWarning: find_element_by_name is deprecated. Please use find_element(by=By.NAME, value=name) instead\n",
      "  \"\"\"\n"
     ]
    }
   ],
   "source": [
    "a = \"고래\"\n",
    "image_name = \"whale\"\n",
    "driver = webdriver.Chrome(chrome_path)\n",
    "driver.get(\"http://www.google.co.kr/imghp?hl=ko\")\n",
    "browser = driver.find_element_by_name('q')\n",
    "browser.send_keys(a)\n",
    "browser.send_keys(Keys.RETURN)"
   ]
  },
  {
   "cell_type": "code",
   "execution_count": 6,
   "id": "149496da",
   "metadata": {},
   "outputs": [
    {
     "name": "stderr",
     "output_type": "stream",
     "text": [
      "C:\\Users\\Ji Sang-joon\\.conda\\envs\\env_ai\\lib\\site-packages\\ipykernel_launcher.py:2: DeprecationWarning: find_element_by_xpath is deprecated. Please use find_element(by=By.XPATH, value=xpath) instead\n",
      "  \n"
     ]
    }
   ],
   "source": [
    "selenium_scroll_option()# 스크롤 하여 이미지 확보\n",
    "driver.find_element_by_xpath('//*[@id=\"islmp\"]/div/div/div/div[1]/div[2]/div[2]/input').click()\n",
    "time.sleep(5)\n",
    "selenium_scroll_option()"
   ]
  },
  {
   "cell_type": "code",
   "execution_count": 7,
   "id": "a08cba32",
   "metadata": {},
   "outputs": [
    {
     "name": "stderr",
     "output_type": "stream",
     "text": [
      "C:\\Users\\Ji Sang-joon\\.conda\\envs\\env_ai\\lib\\site-packages\\ipykernel_launcher.py:2: DeprecationWarning: find_elements_by_css_selector is deprecated. Please use find_elements(by=By.CSS_SELECTOR, value=css_selector) instead\n",
      "  \n"
     ]
    }
   ],
   "source": [
    "# 이미지 저장 src 요소를 리스트업 해서 이미지 url 저장\n",
    "image = driver.find_elements_by_css_selector(\".rg_i.Q4LuWd\")\n",
    "# 클래스 네임에서 공백은 . 을 찍어줌"
   ]
  },
  {
   "cell_type": "code",
   "execution_count": 8,
   "id": "5e7a0376",
   "metadata": {},
   "outputs": [],
   "source": [
    "image_url = []\n",
    "for i in image:\n",
    "    if i.get_attribute(\"src\") != None :\n",
    "        image_url.append(i.get_attribute(\"src\"))\n",
    "    else :\n",
    "        image_url.append(i.get_attribute(\"data-src\"))"
   ]
  },
  {
   "cell_type": "code",
   "execution_count": 9,
   "id": "1c758572",
   "metadata": {},
   "outputs": [
    {
     "name": "stdout",
     "output_type": "stream",
     "text": [
      "전체 다운로드한 이미지 개수 : 793\n",
      "완료\n"
     ]
    }
   ],
   "source": [
    "# 전체 이미지 개수\n",
    "print(f\"전체 다운로드한 이미지 개수 : {len(image_url)}\")\n",
    "image_url = pd.DataFrame(image_url)[0].unique()\n",
    "\n",
    "# 해당하는 파일에 이미지 다운로드\n",
    "os.makedirs(\"./whale\", exist_ok=True)\n",
    "whale = \"./whale/\"\n",
    "if image_name == 'whale' :\n",
    "    for t, url in enumerate(image_url, 0) :\n",
    "        urlretrieve(url, whale + image_name + \"_\" + str(t) + \".png\")\n",
    "\n",
    "    driver.close()\n",
    "\n",
    "print(\"완료\")"
   ]
  },
  {
   "cell_type": "code",
   "execution_count": 1,
   "id": "dc7dbb4b",
   "metadata": {},
   "outputs": [],
   "source": [
    "import time\n",
    "\n",
    "import torch\n",
    "import torchvision\n",
    "import cv2\n",
    "import numpy as np\n",
    "from torch.utils.data import Dataset\n",
    "from torchvision import transforms\n",
    "from PIL import Image\n",
    "from matplotlib import pyplot as plt"
   ]
  },
  {
   "cell_type": "code",
   "execution_count": 2,
   "id": "e70d8b8a",
   "metadata": {},
   "outputs": [],
   "source": [
    "# custom dataset\n",
    "class TorchvisionDataset(Dataset):\n",
    "\n",
    "    def __init__(self, file_paths, transform=None):\n",
    "        self.file_paths = file_paths\n",
    "        self.transform = transform\n",
    "\n",
    "    def __getitem__(self, index):\n",
    "        file_path = self.file_paths[index]\n",
    "\n",
    "        # Image open\n",
    "        image = Image.open(file_path)\n",
    "\n",
    "        start_t = time.time()\n",
    "        if self.transform:\n",
    "            image = self.transform(image)\n",
    "        total_time = (time.time() - start_t)\n",
    "\n",
    "        return image, total_time\n",
    "\n",
    "    def __len__(self):\n",
    "        return len(self.file_path)"
   ]
  },
  {
   "cell_type": "code",
   "execution_count": 3,
   "id": "1438a391",
   "metadata": {},
   "outputs": [],
   "source": [
    "torchvision_transform = transforms.Compose([\n",
    "    transforms.Resize((256, 256)),\n",
    "    transforms.RandomCrop((224, 224)),\n",
    "    transforms.RandomHorizontalFlip(),\n",
    "    transforms.ToTensor(),\n",
    "])"
   ]
  },
  {
   "cell_type": "code",
   "execution_count": 6,
   "id": "adb14c59",
   "metadata": {},
   "outputs": [],
   "source": [
    "torchvision_dataset = TorchvisionDataset(\n",
    "    file_paths=[f\"./whale/whale_{i}.png\" for i in range(0, len(os.listdir(\"./whale\")))],\n",
    "    transform=torchvision_transform\n",
    ")"
   ]
  },
  {
   "cell_type": "code",
   "execution_count": 7,
   "id": "558262f2",
   "metadata": {},
   "outputs": [
    {
     "name": "stdout",
     "output_type": "stream",
     "text": [
      "torchvision time / sample : 13.583228588104248 ms \n"
     ]
    }
   ],
   "source": [
    "os.makedirs(\"./whale_torchvision\", exist_ok=True)\n",
    "\n",
    "total_time = 0\n",
    "for i in range(0, len(os.listdir(\"./whale\"))):\n",
    "    sample, transform_time = torchvision_dataset[i]\n",
    "    img = transforms.ToPILImage()(sample)\n",
    "    img.save(f'./whale_torchvision/{i}.png', 'png')\n",
    "    \n",
    "    total_time += transform_time\n",
    "\n",
    "print(\"torchvision time / sample : {} ms \".format(total_time*10))"
   ]
  },
  {
   "cell_type": "code",
   "execution_count": null,
   "id": "89e75e62",
   "metadata": {},
   "outputs": [],
   "source": []
  }
 ],
 "metadata": {
  "kernelspec": {
   "display_name": "Python 3 (ipykernel)",
   "language": "python",
   "name": "python3"
  },
  "language_info": {
   "codemirror_mode": {
    "name": "ipython",
    "version": 3
   },
   "file_extension": ".py",
   "mimetype": "text/x-python",
   "name": "python",
   "nbconvert_exporter": "python",
   "pygments_lexer": "ipython3",
   "version": "3.7.13"
  }
 },
 "nbformat": 4,
 "nbformat_minor": 5
}
