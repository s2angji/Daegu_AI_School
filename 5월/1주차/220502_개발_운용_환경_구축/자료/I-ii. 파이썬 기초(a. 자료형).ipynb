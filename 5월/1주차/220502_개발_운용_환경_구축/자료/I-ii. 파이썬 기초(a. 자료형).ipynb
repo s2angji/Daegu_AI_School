{
 "cells": [
  {
   "cell_type": "markdown",
   "id": "1b6271b8",
   "metadata": {},
   "source": [
    "### 변수\n",
    "* 변수: 데이터가 저장되는 메모리 상의 어떤 공간\n",
    "* 변수 할당: 어떤 메모리 공간에 이름(변수명)을 붙여 값(value)을 할당하는 것\n",
    "* 변수 첫글자로 숫자를 사용할 수 없으며, 관습적으로 영어 소문자를 사용함"
   ]
  },
  {
   "cell_type": "code",
   "execution_count": 1,
   "id": "96a2bece",
   "metadata": {},
   "outputs": [
    {
     "name": "stdout",
     "output_type": "stream",
     "text": [
      "100 200\n",
      "140712605560320 140712605563520\n"
     ]
    }
   ],
   "source": [
    "# 변수 선언. 대입연산자 '=' 사용\n",
    "# (변수명) = (값)\n",
    "\n",
    "a = 100\n",
    "b = 200\n",
    "print(a, b)\n",
    "print(id(a), id(b))"
   ]
  },
  {
   "cell_type": "code",
   "execution_count": 2,
   "id": "a9236346",
   "metadata": {
    "scrolled": true
   },
   "outputs": [
    {
     "name": "stdout",
     "output_type": "stream",
     "text": [
      "300\n",
      "140712605560320 140712605563520 2411841493968\n"
     ]
    }
   ],
   "source": [
    "c = a + b\n",
    "print(c)\n",
    "print(id(a), id(b), id(c))"
   ]
  },
  {
   "cell_type": "code",
   "execution_count": 3,
   "id": "f4bc20b1",
   "metadata": {},
   "outputs": [
    {
     "name": "stdout",
     "output_type": "stream",
     "text": [
      "<class 'int'>\n"
     ]
    }
   ],
   "source": [
    "print(type(a))"
   ]
  },
  {
   "cell_type": "markdown",
   "id": "55d08f9a",
   "metadata": {},
   "source": [
    "### 파이썬 자료형\n",
    "* 숫자형(int, float)\n",
    "* 문자열(str; string)\n",
    "* 불리언(bool; boolean)\n",
    "* 리스트(list)\n",
    "* 튜플(tuple)\n",
    "* 집합(set)\n",
    "* 딕셔너리(dict; dictionary)"
   ]
  },
  {
   "cell_type": "markdown",
   "id": "75a6328d",
   "metadata": {},
   "source": [
    "### 숫자형(int, float)\n",
    "* 정수형(int): 음의 정수, 0, 양의 정수\n",
    "* 실수형(float): 실수"
   ]
  },
  {
   "cell_type": "code",
   "execution_count": 4,
   "id": "d0c12470",
   "metadata": {},
   "outputs": [
    {
     "name": "stdout",
     "output_type": "stream",
     "text": [
      "<class 'int'> <class 'float'>\n"
     ]
    }
   ],
   "source": [
    "# 숫자형\n",
    "a = -100 # int: 음의 정수, 0, 양의 정수\n",
    "b = 3.14 # float: 실수 형태 값\n",
    "print(type(a), type(b))"
   ]
  },
  {
   "cell_type": "code",
   "execution_count": 5,
   "id": "c12f775b",
   "metadata": {},
   "outputs": [
    {
     "name": "stdout",
     "output_type": "stream",
     "text": [
      "-100.0 3\n",
      "<class 'float'> <class 'int'>\n"
     ]
    }
   ],
   "source": [
    "# 숫자형. 자료형 변환\n",
    "a = float(a)\n",
    "b = int(b) # 버림(round down)\n",
    "print(a, b)\n",
    "print(type(a), type(b))"
   ]
  },
  {
   "cell_type": "code",
   "execution_count": 6,
   "id": "42050de0",
   "metadata": {},
   "outputs": [
    {
     "name": "stdout",
     "output_type": "stream",
     "text": [
      "5\n",
      "1\n",
      "6\n",
      "1.5\n",
      "9\n",
      "1\n",
      "1\n",
      "6.0\n"
     ]
    }
   ],
   "source": [
    "# 숫자형. 기존적인 산술 연산 가능\n",
    "a = 3\n",
    "b = 2\n",
    "print(a + b) # 덧셈\n",
    "print(a - b) # 뺄셈\n",
    "print(a * b) # 곱셈\n",
    "print(a / b) # 나눗셈(float)\n",
    "print(a ** b) # 제곱\n",
    "print(a // b) # 나눗셈에서 몫(int)\n",
    "print(a % b) # 나눗셈에서 나머지(int)\n",
    "print(a + b * a / b) # 표준 사칙연산 순서를 따라 연산함"
   ]
  },
  {
   "cell_type": "markdown",
   "id": "0094f67c",
   "metadata": {},
   "source": [
    "### 문자열(str)\n",
    "* \" \" 또는 ' '에 둘러싸인 문자 집합\n",
    "* +, * 연산 가능\n",
    "* index, slice으로 문자열 구성 요소(element)에 접근할 수 있음\n",
    "* 문자열 관련 기본 함수: www.w3schools.com/python/python_ref_string.asp"
   ]
  },
  {
   "cell_type": "code",
   "execution_count": 7,
   "id": "c37503c3",
   "metadata": {},
   "outputs": [
    {
     "name": "stdout",
     "output_type": "stream",
     "text": [
      "Let's talk about that later\n",
      "\"Watch out!\", she says\n",
      "Let's talk about that later\n",
      "\"Watch out!\", she says\n"
     ]
    }
   ],
   "source": [
    "# 문자열\n",
    "# 문자열 안에 \" \", ' '를 포함시키고 싶은 경우\n",
    "# (1) 문자열 전체를 감싸는 따옴표와 다른 따옴표 사용\n",
    "str_a = \"Let's talk about that later\"\n",
    "str_b = '\"Watch out!\", she says'\n",
    "print(str_a)\n",
    "print(str_b)\n",
    "\n",
    "# (2) 백슬래시(\\) 사용\n",
    "str_a = 'Let\\'s talk about that later'\n",
    "str_b = \"\\\"Watch out!\\\", she says\"\n",
    "print(str_a)\n",
    "print(str_b)"
   ]
  },
  {
   "cell_type": "code",
   "execution_count": 9,
   "id": "5efdf15f",
   "metadata": {},
   "outputs": [
    {
     "name": "stdout",
     "output_type": "stream",
     "text": [
      "Hello, World!\n",
      "Hello, Hello, Hello, \n"
     ]
    }
   ],
   "source": [
    "# 문자열\n",
    "str_a = 'Hello, '\n",
    "str_b = 'World!'\n",
    "print(str_a + str_b) # 문자열 연결\n",
    "print(str_a * 3) # 문자열 반복"
   ]
  },
  {
   "cell_type": "code",
   "execution_count": 10,
   "id": "c16a4cb0",
   "metadata": {},
   "outputs": [
    {
     "name": "stdout",
     "output_type": "stream",
     "text": [
      "H\n",
      "!\n",
      "Hello\n",
      "Hello\n",
      "world!\n",
      "world!\n"
     ]
    }
   ],
   "source": [
    "# 문자열. indexing과 slicing\n",
    "str_a = 'Hello, world!'\n",
    "\n",
    "# indexing: index 번호로 접근하여, 한 element만 반환하는 것\n",
    "# index 번호는 0부터 시작함\n",
    "print(str_a[0])\n",
    "print(str_a[-1])\n",
    "\n",
    "# slicing: index 번호로 접근하여, 배열 내 여러 element에 접근, 반환 가능\n",
    "# 변수명[start index: end index] 형태로 접근. end index의 element는 포함되지 않음\n",
    "print(str_a[0:5])\n",
    "print(str_a[:5]) # 생략시 제일 처음/마지막 index로 지정됨\n",
    "print(str_a[7:])\n",
    "print(str_a[-6:])"
   ]
  },
  {
   "attachments": {
    "image-2.png": {
     "image/png": "[encoded data removed]"
    }
   },
   "cell_type": "markdown",
   "id": "860a4e8c",
   "metadata": {},
   "source": [
    "![image-2.png](attachment:image-2.png)"
   ]
  },
  {
   "cell_type": "code",
   "execution_count": null,
   "id": "a675a6dc",
   "metadata": {},
   "outputs": [],
   "source": [
    "str_a = 'Apple'\n",
    "print(len(str_a)) # 문자열 길이 반환\n",
    "print(str_a.replace('p', 'q')) # 문자열 내 모든 'p'를 'q'로 변환하여 반환\n",
    "print(str_a.count('p')) # 문자열 내 'p'의 개수 반환\n",
    "print(str_a.find('l')) # 문자열 내 'ㅣ'의 위치 index 반환. 없으면 -1 반환\n",
    "print(str_a.index('l')) # 문자열 내 'ㅣ'의 위치 index 반환. 없으면 error\n",
    "print(str_a.upper()) # 모두 대문자로 변환하여 반환\n",
    "print(str_a.lower()) # 모두 소문자로 변환하여 반환\n",
    "print(str_a.split('l')) # 문자열 내 'l'을 기준으로 분할하여 list를 만들어 반환\n",
    "print(str_a) # 원본은 바뀌지 않음\n",
    "print(', '.join(('apple', 'banana', 'candy'))) # 연결하여 하나의 문자열을 만들어 반환"
   ]
  },
  {
   "cell_type": "markdown",
   "id": "5400bf66",
   "metadata": {},
   "source": [
    "#### Escape code: 특정 역할을 가지는 문자 조합\n",
    "* \\n: 줄 바꿈\n",
    "* \\t: tap 간격\n",
    "* \\\": 큰따옴표를 그대로 표현\n",
    "* \\': 작은따옴표를 그대로 표현\n",
    "* \\\\: 역슬래시를 그대로 표현"
   ]
  },
  {
   "cell_type": "code",
   "execution_count": 26,
   "id": "c2fb23b4",
   "metadata": {
    "scrolled": true
   },
   "outputs": [
    {
     "name": "stdout",
     "output_type": "stream",
     "text": [
      "Hello,\n",
      "world!\n"
     ]
    }
   ],
   "source": [
    "print('Hello,\\nworld!')"
   ]
  },
  {
   "cell_type": "code",
   "execution_count": 27,
   "id": "d734a465",
   "metadata": {},
   "outputs": [
    {
     "name": "stdout",
     "output_type": "stream",
     "text": [
      "Hello,\tworld!\n"
     ]
    }
   ],
   "source": [
    "print('Hello,\\tworld!')"
   ]
  },
  {
   "cell_type": "markdown",
   "id": "717a4ecf",
   "metadata": {},
   "source": [
    "#### String formatting: 문자열에 (변수)값을 사용하는 기법\n",
    "* %s: 문자열. String\n",
    "* %c: 문자 1개. Character\n",
    "* %d: 정수. Integer\n",
    "* %f: 실수. Float\n",
    "* %o: 8진수 숫자\n",
    "* %x: 16진수 숫자\n",
    "* %%: %"
   ]
  },
  {
   "cell_type": "code",
   "execution_count": 28,
   "id": "2a780db4",
   "metadata": {},
   "outputs": [
    {
     "name": "stdout",
     "output_type": "stream",
     "text": [
      "I saw 2 houses\n",
      "I saw 2 houses\n",
      "I saw the mountain\n"
     ]
    }
   ],
   "source": [
    "# 넣을 값의 타입에 적합한 format 사용\n",
    "print('I saw %d houses' % 2)\n",
    "print('I saw %c houses' % '2')\n",
    "str_a = 'the mountain'\n",
    "print('I saw %s' % str_a)"
   ]
  },
  {
   "cell_type": "code",
   "execution_count": 29,
   "id": "4dd7c6a1",
   "metadata": {},
   "outputs": [
    {
     "name": "stdout",
     "output_type": "stream",
     "text": [
      "My name is Kim and I am 12 years old.\n"
     ]
    }
   ],
   "source": [
    "# 2개 이상 사용할 때는 개수, 순서에도 주의해야 함\n",
    "name = 'Kim'\n",
    "age = 12\n",
    "print('My name is %s and I am %d years old.' % (name, age))"
   ]
  },
  {
   "cell_type": "code",
   "execution_count": 31,
   "id": "761c87d7",
   "metadata": {},
   "outputs": [
    {
     "name": "stdout",
     "output_type": "stream",
     "text": [
      "     apple\n",
      "apple      in a basket\n",
      "3.14159\n",
      "3141592.00\n"
     ]
    }
   ],
   "source": [
    "# formatting을 사용하여 표현방식을 조정할 수 있음\n",
    "print('%10s' % 'apple')\n",
    "print('%-10s in a basket' % 'apple')\n",
    "print('%0.5f' % 3.141592)\n",
    "print('%0.2f' % 3141592)"
   ]
  },
  {
   "cell_type": "code",
   "execution_count": 34,
   "id": "0b3db2ed",
   "metadata": {},
   "outputs": [
    {
     "name": "stdout",
     "output_type": "stream",
     "text": [
      "My name is Kim and I am Kim years old.\n",
      "My name is Kim and I am 12 years old.\n",
      "My name is Kim and I am 12 years old.\n"
     ]
    }
   ],
   "source": [
    "# 다른 formatting 방법들\n",
    "print('My name is {0} and I am {0} years old.'.format(name, age))\n",
    "print('My name is {name} and I am {age} years old.'.format(name='Kim', age=12))\n",
    "print(f'My name is {name} and I am {age} years old.')"
   ]
  },
  {
   "cell_type": "markdown",
   "id": "89b5824b",
   "metadata": {},
   "source": [
    "### 리스트(list)\n",
    "* 다른 자료형들을 하나로 묶어서 관리할 수 있는 자료형\n",
    "* 한 리스트 안에 여러 자료형이 들어갈 수 있음\n",
    "* +, * 연산 가능\n",
    "* index, slice으로 리스트 구성 요소(element)에 접근할 수 있음\n",
    "* 리스트 관련 기본 함수: www.w3schools.com/python/python_ref_list.asp"
   ]
  },
  {
   "cell_type": "code",
   "execution_count": 36,
   "id": "45b128eb",
   "metadata": {},
   "outputs": [
    {
     "name": "stdout",
     "output_type": "stream",
     "text": [
      "[1, 2, 3, 4, 5, 6, 7]\n",
      "[1, 2, 3, 4, 5, 1, 2, 3, 4, 5, 1, 2, 3, 4, 5]\n"
     ]
    }
   ],
   "source": [
    "list_a = [1, 2, 3, 4, 5] # [] 사용\n",
    "list_b = [1, 'apple', [10, 20, 30], {'key': 'value'}]\n",
    "\n",
    "# +, * 연산\n",
    "print(list_a + [6, 7])\n",
    "print(list_a * 3)"
   ]
  },
  {
   "cell_type": "code",
   "execution_count": 37,
   "id": "5ed9768a",
   "metadata": {},
   "outputs": [
    {
     "name": "stdout",
     "output_type": "stream",
     "text": [
      "4\n",
      "[4, 5]\n",
      "30\n",
      "리스트 한개 값 수정 [1, 2, 3, 4, 7]\n",
      "리스트 여러 값 수정 [10, 20, 30, 4, 7]\n",
      "리스트 여러 값 삭제 [10, 20, 30]\n"
     ]
    }
   ],
   "source": [
    "# indexing, slicing\n",
    "print(list_a[3])\n",
    "print(list_a[3:])\n",
    "print(list_b[2][2])\n",
    "\n",
    "# 리스트 요소에 접근하여 수정 가능\n",
    "list_a[-1] = 7\n",
    "print('리스트 한개 값 수정', list_a)\n",
    "list_a[:3] = [10, 20, 30]\n",
    "print('리스트 여러 값 수정', list_a)\n",
    "list_a[3:] = []\n",
    "print('리스트 여러 값 삭제', list_a)"
   ]
  },
  {
   "cell_type": "markdown",
   "id": "33bb3334",
   "metadata": {},
   "source": [
    "* 리스트에 요소 추가: append, extend\n",
    "* 리스트 요소 삭제: del\n",
    "* 리스트 역순: reverse\n",
    "* 리스트 정렬: sort"
   ]
  },
  {
   "cell_type": "code",
   "execution_count": 40,
   "id": "9b49e1cc",
   "metadata": {},
   "outputs": [
    {
     "name": "stdout",
     "output_type": "stream",
     "text": [
      "[1, 2, 3, 4, 5, [6, 7]] [1, 2, 3, 4, 5, 6, 7]\n"
     ]
    }
   ],
   "source": [
    "list_a = [1, 2, 3, 4, 5]\n",
    "\n",
    "list_a_ap = list_a.copy()\n",
    "list_a_ap.append([6, 7])\n",
    "\n",
    "list_a_ex = list_a.copy()\n",
    "list_a_ex.extend([6, 7])\n",
    "\n",
    "print(list_a_ap, list_a_ex)"
   ]
  },
  {
   "cell_type": "markdown",
   "id": "5f927c41",
   "metadata": {},
   "source": [
    "### 튜플(tuple)\n",
    "* 다른 자료형들을 하나로 묶어서 관리할 수 있는 자료형\n",
    "* 한 튜플 안에 여러 자료형이 들어갈 수 있음\n",
    "* 요소의 추가, 수정, 삭제가 불가능함\n",
    "* 요소로 들어있는 list, set, dict의 값은 수정할 수 있음\n",
    "* index, slice으로 리스트 구성 요소(element)에 접근할 수 있음\n",
    "* +, * 연산 가능\n",
    "* 튜플 관련 기본 함수: www.w3schools.com/python/python_ref_tuple.asp"
   ]
  },
  {
   "cell_type": "code",
   "execution_count": 43,
   "id": "a3c077b5",
   "metadata": {},
   "outputs": [
    {
     "name": "stdout",
     "output_type": "stream",
     "text": [
      "<class 'tuple'> (1, 2, 3, 4, 5)\n"
     ]
    }
   ],
   "source": [
    "tuple_a = (1,) # ( ) 사용. 요소가 하나만 들어가는 경우 마지막에 ,를 두어야 함\n",
    "tuple_b = (1, 2, 'three', (4, 5), [10, 20, 30])\n",
    "tuple_b[4][1] = -20\n",
    "tuple_c = 1, 2, 3, 4, 5 # ( ) 생략 가능\n",
    "print(type(tuple_c), tuple_c)"
   ]
  },
  {
   "cell_type": "code",
   "execution_count": 44,
   "id": "ae89d93e",
   "metadata": {
    "scrolled": true
   },
   "outputs": [
    {
     "name": "stdout",
     "output_type": "stream",
     "text": [
      "(1, 1, 2, 3, 4, 5)\n",
      "(1, 1, 1)\n"
     ]
    }
   ],
   "source": [
    "print(tuple_a + tuple_c)\n",
    "print(tuple_a * 3)"
   ]
  },
  {
   "cell_type": "code",
   "execution_count": null,
   "id": "9e18322d",
   "metadata": {},
   "outputs": [],
   "source": [
    "print(tuple_a, tuple_c)"
   ]
  },
  {
   "cell_type": "markdown",
   "id": "edee8989",
   "metadata": {},
   "source": [
    "### 집합(set)\n",
    "* 다른 자료형들을 하나로 묶어서 관리할 수 있는 자료형\n",
    "* list, tuple과 달리 요소들이 순서를 가지지 않아 index, slice로 요소를 접근할 수 없음\n",
    "* 요소들의 중복이 불가능함\n",
    "* 집합 관련 기본 함수: www.w3schools.com/python/python_ref_set.asp"
   ]
  },
  {
   "cell_type": "code",
   "execution_count": 45,
   "id": "eae8f36e",
   "metadata": {},
   "outputs": [
    {
     "name": "stdout",
     "output_type": "stream",
     "text": [
      "{1, 2, 3, 4, 5} {1, 3, 5, 7, 9} {'a', 'b', 'c'}\n"
     ]
    }
   ],
   "source": [
    "set_a = {1, 2, 3, 4, 5} # { } 사용\n",
    "set_b = set([1, 3, 5, 7, 9, 7])\n",
    "set_c = set(('a', 'b', 'b', 'c'))\n",
    "\n",
    "print(set_a, set_b, set_c)"
   ]
  },
  {
   "cell_type": "code",
   "execution_count": 46,
   "id": "757aa1ea",
   "metadata": {},
   "outputs": [
    {
     "name": "stdout",
     "output_type": "stream",
     "text": [
      "{1, 3, 5}\n",
      "{1, 2, 3, 4, 5, 7, 9}\n",
      "{2, 4}\n"
     ]
    }
   ],
   "source": [
    "print(set_a & set_b) # 교집합\n",
    "print(set_a | set_b) # 합집합\n",
    "print(set_a - set_b) # 차집합"
   ]
  },
  {
   "cell_type": "markdown",
   "id": "ca3c15be",
   "metadata": {},
   "source": [
    "### 딕셔너리(dictionary)\n",
    "* 한 쌍의 key와 value들로 구성되는 자료형\n",
    "* index를 사용하지 않고, key값을 이용하여 value에 접근함\n",
    "* 숫자형, 문자열 자료형만 key로 사용할 수 있음\n",
    "* 딕셔러니 관련 기본 함수: www.w3schools.com/python/python_ref_dictionary.asp"
   ]
  },
  {
   "cell_type": "code",
   "execution_count": 47,
   "id": "b700adf9",
   "metadata": {},
   "outputs": [],
   "source": [
    "dict_a = {'name': 'Kim', 'age': 12, 'birth': '11-3'}\n",
    "dict_b = {1: 'Apple', 2: 'Banana', 3: 'Candy'}"
   ]
  },
  {
   "cell_type": "code",
   "execution_count": 49,
   "id": "2da02f37",
   "metadata": {},
   "outputs": [
    {
     "name": "stdout",
     "output_type": "stream",
     "text": [
      "{'name': 'Kim', 'age': 15} {1: 'Apple', 2: 'Banana', 3: 'Candy', 4: 'Dolphin'}\n"
     ]
    }
   ],
   "source": [
    "# dict_b[4] = 'Dolphin' # 값 추가\n",
    "# dict_a['age'] = 15 # 값 수정\n",
    "\n",
    "del dict_a['birth'] # 값 삭제\n",
    "\n",
    "print(dict_a, dict_b)"
   ]
  },
  {
   "cell_type": "code",
   "execution_count": 52,
   "id": "ec51f63b",
   "metadata": {},
   "outputs": [
    {
     "name": "stdout",
     "output_type": "stream",
     "text": [
      "not exist\n"
     ]
    }
   ],
   "source": [
    "# print(dict_a['birth']) # key 값을 이용하여 값 접근 1\n",
    "print(dict_b.get(5, 'not exist')) # key 값을 이용하여 값 접근 2"
   ]
  },
  {
   "cell_type": "code",
   "execution_count": 53,
   "id": "e590fbbd",
   "metadata": {},
   "outputs": [
    {
     "name": "stdout",
     "output_type": "stream",
     "text": [
      "dict_keys([1, 2, 3, 4])\n",
      "dict_values(['Apple', 'Banana', 'Candy', 'Dolphin'])\n",
      "dict_items([(1, 'Apple'), (2, 'Banana'), (3, 'Candy'), (4, 'Dolphin')])\n"
     ]
    }
   ],
   "source": [
    "# print(dict_a['name']) # key 값을 이용하여 값 접근 1\n",
    "# print(dict_b.get(5, 'not exist')) # key 값을 이용하여 값 접근 2\n",
    "print(dict_b.keys())\n",
    "print(dict_b.values())\n",
    "print(dict_b.items())"
   ]
  },
  {
   "cell_type": "markdown",
   "id": "55e65d15",
   "metadata": {},
   "source": [
    "### Boolean\n",
    "* 참, 거짓 표현\n",
    "* 참(True), 거짓(False)\n",
    "* 조건문(if)과 반복문(while)등 조건을 제어하기 위해 자주 사용됨"
   ]
  },
  {
   "cell_type": "code",
   "execution_count": 54,
   "id": "e250ded1",
   "metadata": {},
   "outputs": [
    {
     "name": "stdout",
     "output_type": "stream",
     "text": [
      "<class 'bool'> True\n"
     ]
    }
   ],
   "source": [
    "bool_a = True\n",
    "bool_b = False\n",
    "print(type(bool_a), bool_a)"
   ]
  },
  {
   "cell_type": "markdown",
   "id": "f46d8a63",
   "metadata": {},
   "source": [
    "False: 0, ''"
   ]
  },
  {
   "cell_type": "markdown",
   "id": "1efe0da6",
   "metadata": {},
   "source": [
    "### 변수의 주소"
   ]
  },
  {
   "cell_type": "code",
   "execution_count": 5,
   "id": "c29d5d9e",
   "metadata": {
    "scrolled": true
   },
   "outputs": [
    {
     "name": "stdout",
     "output_type": "stream",
     "text": [
      "100 100\n",
      "140721970720256 140721970720256\n"
     ]
    }
   ],
   "source": [
    "# immutable 자료형\n",
    "\n",
    "a = 100\n",
    "b = a\n",
    "print(a, b)\n",
    "print(id(a), id(b))"
   ]
  },
  {
   "cell_type": "code",
   "execution_count": 7,
   "id": "a2ac83c0",
   "metadata": {},
   "outputs": [
    {
     "name": "stdout",
     "output_type": "stream",
     "text": [
      "100 10\n",
      "140721970720256 140721970717376\n"
     ]
    }
   ],
   "source": [
    "b = 10\n",
    "print(a, b)\n",
    "print(id(a), id(b))"
   ]
  },
  {
   "cell_type": "code",
   "execution_count": 10,
   "id": "d86b2b88",
   "metadata": {},
   "outputs": [
    {
     "name": "stdout",
     "output_type": "stream",
     "text": [
      "[1, 2, 3] [1, 2, 3]\n",
      "1232022369800 1232022369800\n"
     ]
    }
   ],
   "source": [
    "# mutable 자료형\n",
    "\n",
    "list_a = [1, 2, 3]\n",
    "list_b = list_a\n",
    "print(list_a, list_b)\n",
    "print(id(list_a), id(list_b))"
   ]
  },
  {
   "cell_type": "code",
   "execution_count": 11,
   "id": "9648d3a4",
   "metadata": {},
   "outputs": [
    {
     "name": "stdout",
     "output_type": "stream",
     "text": [
      "[1, 2, 10] [1, 2, 10]\n",
      "1232022369800 1232022369800\n"
     ]
    }
   ],
   "source": [
    "list_b[-1] = 10\n",
    "print(list_a, list_b)\n",
    "print(id(list_a), id(list_b))"
   ]
  },
  {
   "cell_type": "code",
   "execution_count": 13,
   "id": "d8e4f398",
   "metadata": {},
   "outputs": [
    {
     "name": "stdout",
     "output_type": "stream",
     "text": [
      "{1: 'one'} {1: 'one'}\n",
      "1232022316120 1232022316120\n"
     ]
    }
   ],
   "source": [
    "# mutable 자료형 2\n",
    "\n",
    "list_a = {1: 'one'}\n",
    "list_b = list_a\n",
    "print(list_a, list_b)\n",
    "print(id(list_a), id(list_b))"
   ]
  },
  {
   "cell_type": "code",
   "execution_count": 14,
   "id": "44406fe7",
   "metadata": {
    "scrolled": true
   },
   "outputs": [
    {
     "name": "stdout",
     "output_type": "stream",
     "text": [
      "{1: 'one', 3: 'three'} {1: 'one', 3: 'three'}\n",
      "1232022316120 1232022316120\n"
     ]
    }
   ],
   "source": [
    "list_b[3] = 'three'\n",
    "print(list_a, list_b)\n",
    "print(id(list_a), id(list_b))"
   ]
  }
 ],
 "metadata": {
  "kernelspec": {
   "display_name": "env_ai",
   "language": "python",
   "name": "env_ai"
  },
  "language_info": {
   "codemirror_mode": {
    "name": "ipython",
    "version": 3
   },
   "file_extension": ".py",
   "mimetype": "text/x-python",
   "name": "python",
   "nbconvert_exporter": "python",
   "pygments_lexer": "ipython3",
   "version": "3.7.13"
  }
 },
 "nbformat": 4,
 "nbformat_minor": 5
}
